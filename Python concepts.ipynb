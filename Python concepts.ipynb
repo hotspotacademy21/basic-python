{
 "cells": [
  {
   "cell_type": "markdown",
   "id": "e22a7e26",
   "metadata": {},
   "source": [
    "## Python Data types"
   ]
  },
  {
   "cell_type": "code",
   "execution_count": 200,
   "id": "0fdb4b53",
   "metadata": {},
   "outputs": [
    {
     "data": {
      "text/plain": [
       "1288"
      ]
     },
     "execution_count": 200,
     "metadata": {},
     "output_type": "execute_result"
    }
   ],
   "source": [
    "length * 56"
   ]
  },
  {
   "cell_type": "code",
   "execution_count": 201,
   "id": "f02cc994",
   "metadata": {},
   "outputs": [
    {
     "ename": "NameError",
     "evalue": "name 'Int' is not defined",
     "output_type": "error",
     "traceback": [
      "\u001b[1;31m---------------------------------------------------------------------------\u001b[0m",
      "\u001b[1;31mNameError\u001b[0m                                 Traceback (most recent call last)",
      "\u001b[1;32m~\\AppData\\Local\\Temp/ipykernel_34820/2750972996.py\u001b[0m in \u001b[0;36m<module>\u001b[1;34m\u001b[0m\n\u001b[1;32m----> 1\u001b[1;33m \u001b[0mInt\u001b[0m\u001b[1;33m\u001b[0m\u001b[1;33m\u001b[0m\u001b[0m\n\u001b[0m\u001b[0;32m      2\u001b[0m \u001b[0mFloats\u001b[0m\u001b[1;33m\u001b[0m\u001b[1;33m\u001b[0m\u001b[0m\n\u001b[0;32m      3\u001b[0m \u001b[0mStrings\u001b[0m\u001b[1;33m\u001b[0m\u001b[1;33m\u001b[0m\u001b[0m\n\u001b[0;32m      4\u001b[0m \u001b[0mBooleans\u001b[0m\u001b[1;33m\u001b[0m\u001b[1;33m\u001b[0m\u001b[0m\n\u001b[0;32m      5\u001b[0m \u001b[0mLists\u001b[0m\u001b[1;33m\u001b[0m\u001b[1;33m\u001b[0m\u001b[0m\n",
      "\u001b[1;31mNameError\u001b[0m: name 'Int' is not defined"
     ]
    }
   ],
   "source": [
    "Int \n",
    "Floats\n",
    "Strings\n",
    "Booleans\n",
    "Lists\n",
    "Dictionaries"
   ]
  },
  {
   "cell_type": "markdown",
   "id": "f1a64e62",
   "metadata": {},
   "source": [
    "#### Integers"
   ]
  },
  {
   "cell_type": "code",
   "execution_count": 202,
   "id": "d04072ec",
   "metadata": {},
   "outputs": [
    {
     "data": {
      "text/plain": [
       "1004"
      ]
     },
     "execution_count": 202,
     "metadata": {},
     "output_type": "execute_result"
    }
   ],
   "source": [
    "1004"
   ]
  },
  {
   "cell_type": "code",
   "execution_count": 203,
   "id": "557cb6e0",
   "metadata": {},
   "outputs": [
    {
     "data": {
      "text/plain": [
       "int"
      ]
     },
     "execution_count": 203,
     "metadata": {},
     "output_type": "execute_result"
    }
   ],
   "source": [
    "type(1004)"
   ]
  },
  {
   "cell_type": "markdown",
   "id": "069d7856",
   "metadata": {},
   "source": [
    "#### Floats"
   ]
  },
  {
   "cell_type": "code",
   "execution_count": 204,
   "id": "892f93dd",
   "metadata": {},
   "outputs": [
    {
     "data": {
      "text/plain": [
       "172.65"
      ]
     },
     "execution_count": 204,
     "metadata": {},
     "output_type": "execute_result"
    }
   ],
   "source": [
    "172.65"
   ]
  },
  {
   "cell_type": "code",
   "execution_count": 205,
   "id": "1e896fe8",
   "metadata": {},
   "outputs": [
    {
     "data": {
      "text/plain": [
       "float"
      ]
     },
     "execution_count": 205,
     "metadata": {},
     "output_type": "execute_result"
    }
   ],
   "source": [
    "type(172.65)"
   ]
  },
  {
   "cell_type": "code",
   "execution_count": 206,
   "id": "fc58311f",
   "metadata": {},
   "outputs": [
    {
     "data": {
      "text/plain": [
       "1004.0"
      ]
     },
     "execution_count": 206,
     "metadata": {},
     "output_type": "execute_result"
    }
   ],
   "source": [
    "1004.0"
   ]
  },
  {
   "cell_type": "code",
   "execution_count": 207,
   "id": "ef63dabd",
   "metadata": {},
   "outputs": [
    {
     "data": {
      "text/plain": [
       "float"
      ]
     },
     "execution_count": 207,
     "metadata": {},
     "output_type": "execute_result"
    }
   ],
   "source": [
    "type(1004.0)"
   ]
  },
  {
   "cell_type": "markdown",
   "id": "a5b98c84",
   "metadata": {},
   "source": [
    "#### Strings"
   ]
  },
  {
   "cell_type": "code",
   "execution_count": 208,
   "id": "c6fc67bb",
   "metadata": {},
   "outputs": [
    {
     "data": {
      "text/plain": [
       "'mango'"
      ]
     },
     "execution_count": 208,
     "metadata": {},
     "output_type": "execute_result"
    }
   ],
   "source": [
    "'mango'"
   ]
  },
  {
   "cell_type": "code",
   "execution_count": 209,
   "id": "ad0198a7",
   "metadata": {},
   "outputs": [
    {
     "data": {
      "text/plain": [
       "str"
      ]
     },
     "execution_count": 209,
     "metadata": {},
     "output_type": "execute_result"
    }
   ],
   "source": [
    "type('mango')"
   ]
  },
  {
   "cell_type": "code",
   "execution_count": 210,
   "id": "5eef5f5b",
   "metadata": {},
   "outputs": [
    {
     "data": {
      "text/plain": [
       "'cassava'"
      ]
     },
     "execution_count": 210,
     "metadata": {},
     "output_type": "execute_result"
    }
   ],
   "source": [
    "\"cassava\""
   ]
  },
  {
   "cell_type": "code",
   "execution_count": 211,
   "id": "704a559c",
   "metadata": {},
   "outputs": [
    {
     "data": {
      "text/plain": [
       "str"
      ]
     },
     "execution_count": 211,
     "metadata": {},
     "output_type": "execute_result"
    }
   ],
   "source": [
    "type(\"cassava\")"
   ]
  },
  {
   "cell_type": "code",
   "execution_count": 212,
   "id": "144d6921",
   "metadata": {},
   "outputs": [
    {
     "data": {
      "text/plain": [
       "'1004.0'"
      ]
     },
     "execution_count": 212,
     "metadata": {},
     "output_type": "execute_result"
    }
   ],
   "source": [
    "'1004.0'"
   ]
  },
  {
   "cell_type": "code",
   "execution_count": 213,
   "id": "881266b6",
   "metadata": {},
   "outputs": [
    {
     "data": {
      "text/plain": [
       "str"
      ]
     },
     "execution_count": 213,
     "metadata": {},
     "output_type": "execute_result"
    }
   ],
   "source": [
    "type('1004.0')"
   ]
  },
  {
   "cell_type": "markdown",
   "id": "2a9bfa0d",
   "metadata": {},
   "source": [
    "#####  String methods"
   ]
  },
  {
   "cell_type": "code",
   "execution_count": 423,
   "id": "f450de1b",
   "metadata": {},
   "outputs": [],
   "source": [
    "name = ' Franklin '"
   ]
  },
  {
   "cell_type": "code",
   "execution_count": 421,
   "id": "40eb2de8",
   "metadata": {},
   "outputs": [
    {
     "data": {
      "text/plain": [
       "'FRANKLIN'"
      ]
     },
     "execution_count": 421,
     "metadata": {},
     "output_type": "execute_result"
    }
   ],
   "source": [
    "name.upper()"
   ]
  },
  {
   "cell_type": "code",
   "execution_count": 422,
   "id": "911f4d68",
   "metadata": {},
   "outputs": [
    {
     "data": {
      "text/plain": [
       "'franklin'"
      ]
     },
     "execution_count": 422,
     "metadata": {},
     "output_type": "execute_result"
    }
   ],
   "source": [
    "name.lower()"
   ]
  },
  {
   "cell_type": "code",
   "execution_count": 424,
   "id": "69323f2d",
   "metadata": {},
   "outputs": [
    {
     "data": {
      "text/plain": [
       "' Franklin '"
      ]
     },
     "execution_count": 424,
     "metadata": {},
     "output_type": "execute_result"
    }
   ],
   "source": [
    "name"
   ]
  },
  {
   "cell_type": "code",
   "execution_count": 425,
   "id": "5024e6c0",
   "metadata": {},
   "outputs": [
    {
     "data": {
      "text/plain": [
       "'Franklin'"
      ]
     },
     "execution_count": 425,
     "metadata": {},
     "output_type": "execute_result"
    }
   ],
   "source": [
    "name.strip()"
   ]
  },
  {
   "cell_type": "markdown",
   "id": "f98fe1a6",
   "metadata": {},
   "source": [
    "#### Booleans"
   ]
  },
  {
   "cell_type": "code",
   "execution_count": 214,
   "id": "639e1f82",
   "metadata": {},
   "outputs": [
    {
     "data": {
      "text/plain": [
       "True"
      ]
     },
     "execution_count": 214,
     "metadata": {},
     "output_type": "execute_result"
    }
   ],
   "source": [
    "3 > 2"
   ]
  },
  {
   "cell_type": "code",
   "execution_count": 215,
   "id": "4de00347",
   "metadata": {},
   "outputs": [
    {
     "data": {
      "text/plain": [
       "False"
      ]
     },
     "execution_count": 215,
     "metadata": {},
     "output_type": "execute_result"
    }
   ],
   "source": [
    "4 > 9"
   ]
  },
  {
   "cell_type": "markdown",
   "id": "0b4c453a",
   "metadata": {},
   "source": [
    "## Variable assignation"
   ]
  },
  {
   "cell_type": "code",
   "execution_count": 216,
   "id": "f9dbae39",
   "metadata": {},
   "outputs": [
    {
     "data": {
      "text/plain": [
       "3.142567864345"
      ]
     },
     "execution_count": 216,
     "metadata": {},
     "output_type": "execute_result"
    }
   ],
   "source": [
    "3.142567864345"
   ]
  },
  {
   "cell_type": "code",
   "execution_count": 217,
   "id": "f1783ba7",
   "metadata": {},
   "outputs": [
    {
     "data": {
      "text/plain": [
       "9.427703530350001"
      ]
     },
     "execution_count": 217,
     "metadata": {},
     "output_type": "execute_result"
    }
   ],
   "source": [
    "3 * 3.14256784345"
   ]
  },
  {
   "cell_type": "code",
   "execution_count": 218,
   "id": "6f6d88d2",
   "metadata": {},
   "outputs": [
    {
     "data": {
      "text/plain": [
       "279.68853806705"
      ]
     },
     "execution_count": 218,
     "metadata": {},
     "output_type": "execute_result"
    }
   ],
   "source": [
    "89 * 3.14256784345"
   ]
  },
  {
   "cell_type": "code",
   "execution_count": 219,
   "id": "a2efdae2",
   "metadata": {},
   "outputs": [],
   "source": [
    "pi = 3.14256784345"
   ]
  },
  {
   "cell_type": "code",
   "execution_count": 220,
   "id": "facb7669",
   "metadata": {},
   "outputs": [
    {
     "data": {
      "text/plain": [
       "9.427703530350001"
      ]
     },
     "execution_count": 220,
     "metadata": {},
     "output_type": "execute_result"
    }
   ],
   "source": [
    "3 * pi"
   ]
  },
  {
   "cell_type": "code",
   "execution_count": 221,
   "id": "bae32706",
   "metadata": {},
   "outputs": [
    {
     "data": {
      "text/plain": [
       "279.68853806705"
      ]
     },
     "execution_count": 221,
     "metadata": {},
     "output_type": "execute_result"
    }
   ],
   "source": [
    "89 * pi"
   ]
  },
  {
   "cell_type": "code",
   "execution_count": 222,
   "id": "79c77ea3",
   "metadata": {},
   "outputs": [],
   "source": [
    "length = 23"
   ]
  },
  {
   "cell_type": "code",
   "execution_count": 223,
   "id": "a5a7d6bf",
   "metadata": {},
   "outputs": [],
   "source": [
    "breadth = 46"
   ]
  },
  {
   "cell_type": "code",
   "execution_count": 224,
   "id": "2794a7d9",
   "metadata": {},
   "outputs": [],
   "source": [
    "rectangle_perimeter = 2*length + 2*breadth"
   ]
  },
  {
   "cell_type": "code",
   "execution_count": 225,
   "id": "39eb59bd",
   "metadata": {},
   "outputs": [
    {
     "data": {
      "text/plain": [
       "138"
      ]
     },
     "execution_count": 225,
     "metadata": {},
     "output_type": "execute_result"
    }
   ],
   "source": [
    "rectangle_perimeter"
   ]
  },
  {
   "cell_type": "code",
   "execution_count": 226,
   "id": "e288aaf1",
   "metadata": {},
   "outputs": [
    {
     "data": {
      "text/plain": [
       "-23"
      ]
     },
     "execution_count": 226,
     "metadata": {},
     "output_type": "execute_result"
    }
   ],
   "source": [
    "length - breadth"
   ]
  },
  {
   "cell_type": "code",
   "execution_count": 227,
   "id": "4ecff62e",
   "metadata": {},
   "outputs": [
    {
     "ename": "NameError",
     "evalue": "name 'mango' is not defined",
     "output_type": "error",
     "traceback": [
      "\u001b[1;31m---------------------------------------------------------------------------\u001b[0m",
      "\u001b[1;31mNameError\u001b[0m                                 Traceback (most recent call last)",
      "\u001b[1;32m~\\AppData\\Local\\Temp/ipykernel_34820/4157242548.py\u001b[0m in \u001b[0;36m<module>\u001b[1;34m\u001b[0m\n\u001b[1;32m----> 1\u001b[1;33m \u001b[0mmango\u001b[0m\u001b[1;33m\u001b[0m\u001b[1;33m\u001b[0m\u001b[0m\n\u001b[0m",
      "\u001b[1;31mNameError\u001b[0m: name 'mango' is not defined"
     ]
    }
   ],
   "source": [
    "mango"
   ]
  },
  {
   "cell_type": "code",
   "execution_count": 228,
   "id": "7b7fae1e",
   "metadata": {},
   "outputs": [
    {
     "data": {
      "text/plain": [
       "23"
      ]
     },
     "execution_count": 228,
     "metadata": {},
     "output_type": "execute_result"
    }
   ],
   "source": [
    "length"
   ]
  },
  {
   "cell_type": "markdown",
   "id": "b5082632",
   "metadata": {},
   "source": [
    "## Operators"
   ]
  },
  {
   "cell_type": "markdown",
   "id": "cae1d479",
   "metadata": {},
   "source": [
    "#### Arithmetic operators(& In-line Comments)"
   ]
  },
  {
   "cell_type": "code",
   "execution_count": 229,
   "id": "d0eb1970",
   "metadata": {},
   "outputs": [
    {
     "data": {
      "text/plain": [
       "30"
      ]
     },
     "execution_count": 229,
     "metadata": {},
     "output_type": "execute_result"
    }
   ],
   "source": [
    "# Multiplication\n",
    "5 * 6"
   ]
  },
  {
   "cell_type": "code",
   "execution_count": 230,
   "id": "a5e923d4",
   "metadata": {},
   "outputs": [
    {
     "data": {
      "text/plain": [
       "1"
      ]
     },
     "execution_count": 230,
     "metadata": {},
     "output_type": "execute_result"
    }
   ],
   "source": [
    "# Subtraction\n",
    "6 - 5"
   ]
  },
  {
   "cell_type": "code",
   "execution_count": 231,
   "id": "978edce1",
   "metadata": {},
   "outputs": [
    {
     "data": {
      "text/plain": [
       "11"
      ]
     },
     "execution_count": 231,
     "metadata": {},
     "output_type": "execute_result"
    }
   ],
   "source": [
    "# Addition\n",
    "4 + 7"
   ]
  },
  {
   "cell_type": "code",
   "execution_count": 232,
   "id": "52e783dc",
   "metadata": {},
   "outputs": [
    {
     "data": {
      "text/plain": [
       "36"
      ]
     },
     "execution_count": 232,
     "metadata": {},
     "output_type": "execute_result"
    }
   ],
   "source": [
    "6*5+6"
   ]
  },
  {
   "cell_type": "code",
   "execution_count": 233,
   "id": "503c7ebd",
   "metadata": {},
   "outputs": [
    {
     "data": {
      "text/plain": [
       "36"
      ]
     },
     "execution_count": 233,
     "metadata": {},
     "output_type": "execute_result"
    }
   ],
   "source": [
    "(6*5) + 6"
   ]
  },
  {
   "cell_type": "code",
   "execution_count": 234,
   "id": "821bfc36",
   "metadata": {},
   "outputs": [
    {
     "name": "stderr",
     "output_type": "stream",
     "text": [
      "<>:1: SyntaxWarning: 'int' object is not callable; perhaps you missed a comma?\n",
      "<>:1: SyntaxWarning: 'int' object is not callable; perhaps you missed a comma?\n",
      "C:\\Users\\JB479JV\\AppData\\Local\\Temp/ipykernel_34820/3428628430.py:1: SyntaxWarning: 'int' object is not callable; perhaps you missed a comma?\n",
      "  2(3)\n"
     ]
    },
    {
     "ename": "TypeError",
     "evalue": "'int' object is not callable",
     "output_type": "error",
     "traceback": [
      "\u001b[1;31m---------------------------------------------------------------------------\u001b[0m",
      "\u001b[1;31mTypeError\u001b[0m                                 Traceback (most recent call last)",
      "\u001b[1;32m~\\AppData\\Local\\Temp/ipykernel_34820/3428628430.py\u001b[0m in \u001b[0;36m<module>\u001b[1;34m\u001b[0m\n\u001b[1;32m----> 1\u001b[1;33m \u001b[1;36m2\u001b[0m\u001b[1;33m(\u001b[0m\u001b[1;36m3\u001b[0m\u001b[1;33m)\u001b[0m\u001b[1;33m\u001b[0m\u001b[1;33m\u001b[0m\u001b[0m\n\u001b[0m",
      "\u001b[1;31mTypeError\u001b[0m: 'int' object is not callable"
     ]
    }
   ],
   "source": [
    "2(3)"
   ]
  },
  {
   "cell_type": "code",
   "execution_count": 235,
   "id": "91d6069a",
   "metadata": {},
   "outputs": [
    {
     "data": {
      "text/plain": [
       "6"
      ]
     },
     "execution_count": 235,
     "metadata": {},
     "output_type": "execute_result"
    }
   ],
   "source": [
    "2 * 3"
   ]
  },
  {
   "cell_type": "code",
   "execution_count": 236,
   "id": "827ffb3e",
   "metadata": {},
   "outputs": [
    {
     "data": {
      "text/plain": [
       "6"
      ]
     },
     "execution_count": 236,
     "metadata": {},
     "output_type": "execute_result"
    }
   ],
   "source": [
    "2*(3)"
   ]
  },
  {
   "cell_type": "code",
   "execution_count": 237,
   "id": "c021a441",
   "metadata": {},
   "outputs": [
    {
     "data": {
      "text/plain": [
       "1.125"
      ]
     },
     "execution_count": 237,
     "metadata": {},
     "output_type": "execute_result"
    }
   ],
   "source": [
    "# Normal division\n",
    "9/8"
   ]
  },
  {
   "cell_type": "code",
   "execution_count": 238,
   "id": "1475ba31",
   "metadata": {},
   "outputs": [
    {
     "data": {
      "text/plain": [
       "1"
      ]
     },
     "execution_count": 238,
     "metadata": {},
     "output_type": "execute_result"
    }
   ],
   "source": [
    "# Floor division\n",
    "9//8"
   ]
  },
  {
   "cell_type": "code",
   "execution_count": 239,
   "id": "9debb5ed",
   "metadata": {},
   "outputs": [
    {
     "data": {
      "text/plain": [
       "3"
      ]
     },
     "execution_count": 239,
     "metadata": {},
     "output_type": "execute_result"
    }
   ],
   "source": [
    "# Modulo\n",
    "7%4"
   ]
  },
  {
   "cell_type": "code",
   "execution_count": 240,
   "id": "27dfcf80",
   "metadata": {},
   "outputs": [],
   "source": [
    "num = 73"
   ]
  },
  {
   "cell_type": "code",
   "execution_count": 241,
   "id": "18a77153",
   "metadata": {},
   "outputs": [],
   "source": [
    "if num%2 == 0:\n",
    "    print(str(num) + ' is an even number')"
   ]
  },
  {
   "cell_type": "code",
   "execution_count": 242,
   "id": "b2795835",
   "metadata": {},
   "outputs": [
    {
     "data": {
      "text/plain": [
       "81"
      ]
     },
     "execution_count": 242,
     "metadata": {},
     "output_type": "execute_result"
    }
   ],
   "source": [
    "# Exponent\n",
    "3**4"
   ]
  },
  {
   "cell_type": "code",
   "execution_count": 243,
   "id": "71647187",
   "metadata": {},
   "outputs": [
    {
     "data": {
      "text/plain": [
       "9"
      ]
     },
     "execution_count": 243,
     "metadata": {},
     "output_type": "execute_result"
    }
   ],
   "source": [
    "3**2"
   ]
  },
  {
   "cell_type": "code",
   "execution_count": 244,
   "id": "0515ee91",
   "metadata": {},
   "outputs": [
    {
     "data": {
      "text/plain": [
       "1024"
      ]
     },
     "execution_count": 244,
     "metadata": {},
     "output_type": "execute_result"
    }
   ],
   "source": [
    "4**5"
   ]
  },
  {
   "cell_type": "code",
   "execution_count": 245,
   "id": "b0d0ab1c",
   "metadata": {},
   "outputs": [
    {
     "data": {
      "text/plain": [
       "5.0"
      ]
     },
     "execution_count": 245,
     "metadata": {},
     "output_type": "execute_result"
    }
   ],
   "source": [
    "(3**2)-7+6/6+2"
   ]
  },
  {
   "cell_type": "code",
   "execution_count": 246,
   "id": "25d949af",
   "metadata": {},
   "outputs": [
    {
     "data": {
      "text/plain": [
       "5.0"
      ]
     },
     "execution_count": 246,
     "metadata": {},
     "output_type": "execute_result"
    }
   ],
   "source": [
    "9-7+6/6+2"
   ]
  },
  {
   "cell_type": "code",
   "execution_count": 247,
   "id": "fa5bcf72",
   "metadata": {},
   "outputs": [
    {
     "data": {
      "text/plain": [
       "5"
      ]
     },
     "execution_count": 247,
     "metadata": {},
     "output_type": "execute_result"
    }
   ],
   "source": [
    "9-7+1+2"
   ]
  },
  {
   "cell_type": "code",
   "execution_count": 248,
   "id": "180a0ea3",
   "metadata": {},
   "outputs": [
    {
     "data": {
      "text/plain": [
       "5"
      ]
     },
     "execution_count": 248,
     "metadata": {},
     "output_type": "execute_result"
    }
   ],
   "source": [
    "9-7+3"
   ]
  },
  {
   "cell_type": "code",
   "execution_count": 249,
   "id": "73807195",
   "metadata": {},
   "outputs": [
    {
     "data": {
      "text/plain": [
       "5"
      ]
     },
     "execution_count": 249,
     "metadata": {},
     "output_type": "execute_result"
    }
   ],
   "source": [
    "9-4"
   ]
  },
  {
   "cell_type": "markdown",
   "id": "c5284ace",
   "metadata": {},
   "source": [
    "#### Comparison Operators"
   ]
  },
  {
   "cell_type": "code",
   "execution_count": 250,
   "id": "bcbd356e",
   "metadata": {},
   "outputs": [
    {
     "data": {
      "text/plain": [
       "True"
      ]
     },
     "execution_count": 250,
     "metadata": {},
     "output_type": "execute_result"
    }
   ],
   "source": [
    "7 > 6"
   ]
  },
  {
   "cell_type": "code",
   "execution_count": 251,
   "id": "a845783b",
   "metadata": {},
   "outputs": [
    {
     "data": {
      "text/plain": [
       "False"
      ]
     },
     "execution_count": 251,
     "metadata": {},
     "output_type": "execute_result"
    }
   ],
   "source": [
    "7 > 90"
   ]
  },
  {
   "cell_type": "code",
   "execution_count": 252,
   "id": "830d7692",
   "metadata": {},
   "outputs": [
    {
     "data": {
      "text/plain": [
       "True"
      ]
     },
     "execution_count": 252,
     "metadata": {},
     "output_type": "execute_result"
    }
   ],
   "source": [
    "5 < 6"
   ]
  },
  {
   "cell_type": "code",
   "execution_count": 253,
   "id": "543d392a",
   "metadata": {},
   "outputs": [
    {
     "data": {
      "text/plain": [
       "False"
      ]
     },
     "execution_count": 253,
     "metadata": {},
     "output_type": "execute_result"
    }
   ],
   "source": [
    "8 >= 9"
   ]
  },
  {
   "cell_type": "code",
   "execution_count": 254,
   "id": "ebac250b",
   "metadata": {},
   "outputs": [
    {
     "data": {
      "text/plain": [
       "True"
      ]
     },
     "execution_count": 254,
     "metadata": {},
     "output_type": "execute_result"
    }
   ],
   "source": [
    "9 <= 45"
   ]
  },
  {
   "cell_type": "code",
   "execution_count": 255,
   "id": "b39396e4",
   "metadata": {},
   "outputs": [
    {
     "data": {
      "text/plain": [
       "False"
      ]
     },
     "execution_count": 255,
     "metadata": {},
     "output_type": "execute_result"
    }
   ],
   "source": [
    "7 != 7"
   ]
  },
  {
   "cell_type": "code",
   "execution_count": 256,
   "id": "617b6794",
   "metadata": {},
   "outputs": [
    {
     "data": {
      "text/plain": [
       "False"
      ]
     },
     "execution_count": 256,
     "metadata": {},
     "output_type": "execute_result"
    }
   ],
   "source": [
    "8 == 7"
   ]
  },
  {
   "cell_type": "markdown",
   "id": "21b2d778",
   "metadata": {},
   "source": [
    "#### Logical Operators"
   ]
  },
  {
   "cell_type": "markdown",
   "id": "c2a10d6b",
   "metadata": {},
   "source": [
    "###### AND Operator"
   ]
  },
  {
   "cell_type": "code",
   "execution_count": 257,
   "id": "0c69264f",
   "metadata": {},
   "outputs": [
    {
     "data": {
      "text/plain": [
       "True"
      ]
     },
     "execution_count": 257,
     "metadata": {},
     "output_type": "execute_result"
    }
   ],
   "source": [
    "first_condition = 9 > 7\n",
    "first_condition"
   ]
  },
  {
   "cell_type": "code",
   "execution_count": 258,
   "id": "ae67e31c",
   "metadata": {},
   "outputs": [
    {
     "data": {
      "text/plain": [
       "True"
      ]
     },
     "execution_count": 258,
     "metadata": {},
     "output_type": "execute_result"
    }
   ],
   "source": [
    "second_condition = 15 > 10\n",
    "second_condition"
   ]
  },
  {
   "cell_type": "code",
   "execution_count": 259,
   "id": "5a94b975",
   "metadata": {},
   "outputs": [
    {
     "data": {
      "text/plain": [
       "True"
      ]
     },
     "execution_count": 259,
     "metadata": {},
     "output_type": "execute_result"
    }
   ],
   "source": [
    "(first_condition) and (second_condition)"
   ]
  },
  {
   "cell_type": "markdown",
   "id": "97654963",
   "metadata": {},
   "source": [
    "###### OR Operator"
   ]
  },
  {
   "cell_type": "code",
   "execution_count": 260,
   "id": "ae5b79f3",
   "metadata": {},
   "outputs": [
    {
     "data": {
      "text/plain": [
       "False"
      ]
     },
     "execution_count": 260,
     "metadata": {},
     "output_type": "execute_result"
    }
   ],
   "source": [
    "first_condition = 5 > 7\n",
    "first_condition"
   ]
  },
  {
   "cell_type": "code",
   "execution_count": 261,
   "id": "51b654e8",
   "metadata": {},
   "outputs": [
    {
     "data": {
      "text/plain": [
       "False"
      ]
     },
     "execution_count": 261,
     "metadata": {},
     "output_type": "execute_result"
    }
   ],
   "source": [
    "second_condition = 3 > 10\n",
    "second_condition"
   ]
  },
  {
   "cell_type": "code",
   "execution_count": 262,
   "id": "d898cc9b",
   "metadata": {},
   "outputs": [
    {
     "data": {
      "text/plain": [
       "False"
      ]
     },
     "execution_count": 262,
     "metadata": {},
     "output_type": "execute_result"
    }
   ],
   "source": [
    "(first_condition) or (second_condition)"
   ]
  },
  {
   "cell_type": "markdown",
   "id": "5c147290",
   "metadata": {},
   "source": [
    "###### NOT Operator"
   ]
  },
  {
   "cell_type": "code",
   "execution_count": 263,
   "id": "cff81481",
   "metadata": {},
   "outputs": [
    {
     "data": {
      "text/plain": [
       "False"
      ]
     },
     "execution_count": 263,
     "metadata": {},
     "output_type": "execute_result"
    }
   ],
   "source": [
    "(first_condition) or (second_condition)"
   ]
  },
  {
   "cell_type": "code",
   "execution_count": 264,
   "id": "77b3c125",
   "metadata": {},
   "outputs": [
    {
     "data": {
      "text/plain": [
       "True"
      ]
     },
     "execution_count": 264,
     "metadata": {},
     "output_type": "execute_result"
    }
   ],
   "source": [
    "not((first_condition) or (second_condition))"
   ]
  },
  {
   "cell_type": "markdown",
   "id": "baecc320",
   "metadata": {},
   "source": [
    "#### Identity Operators"
   ]
  },
  {
   "cell_type": "markdown",
   "id": "a0307795",
   "metadata": {},
   "source": [
    "###### Is Operator"
   ]
  },
  {
   "cell_type": "code",
   "execution_count": 265,
   "id": "13fbfc07",
   "metadata": {},
   "outputs": [],
   "source": [
    "num = 98"
   ]
  },
  {
   "cell_type": "code",
   "execution_count": 266,
   "id": "14e14f3d",
   "metadata": {},
   "outputs": [
    {
     "name": "stderr",
     "output_type": "stream",
     "text": [
      "<>:1: SyntaxWarning: \"is\" with a literal. Did you mean \"==\"?\n",
      "<>:1: SyntaxWarning: \"is\" with a literal. Did you mean \"==\"?\n",
      "C:\\Users\\JB479JV\\AppData\\Local\\Temp/ipykernel_34820/2123877177.py:1: SyntaxWarning: \"is\" with a literal. Did you mean \"==\"?\n",
      "  num is 98\n"
     ]
    },
    {
     "data": {
      "text/plain": [
       "True"
      ]
     },
     "execution_count": 266,
     "metadata": {},
     "output_type": "execute_result"
    }
   ],
   "source": [
    "num is 98"
   ]
  },
  {
   "cell_type": "code",
   "execution_count": 267,
   "id": "e9a48333",
   "metadata": {},
   "outputs": [
    {
     "data": {
      "text/plain": [
       "False"
      ]
     },
     "execution_count": 267,
     "metadata": {},
     "output_type": "execute_result"
    }
   ],
   "source": [
    "type(5.6) is int"
   ]
  },
  {
   "cell_type": "markdown",
   "id": "1793faed",
   "metadata": {},
   "source": [
    "###### Is not Operator"
   ]
  },
  {
   "cell_type": "code",
   "execution_count": 268,
   "id": "e2a085e4",
   "metadata": {},
   "outputs": [],
   "source": [
    "apples = 24"
   ]
  },
  {
   "cell_type": "code",
   "execution_count": 269,
   "id": "7edc57bc",
   "metadata": {},
   "outputs": [
    {
     "name": "stderr",
     "output_type": "stream",
     "text": [
      "<>:1: SyntaxWarning: \"is not\" with a literal. Did you mean \"!=\"?\n",
      "<>:1: SyntaxWarning: \"is not\" with a literal. Did you mean \"!=\"?\n",
      "C:\\Users\\JB479JV\\AppData\\Local\\Temp/ipykernel_34820/1891352115.py:1: SyntaxWarning: \"is not\" with a literal. Did you mean \"!=\"?\n",
      "  apples is not 95\n"
     ]
    },
    {
     "data": {
      "text/plain": [
       "True"
      ]
     },
     "execution_count": 269,
     "metadata": {},
     "output_type": "execute_result"
    }
   ],
   "source": [
    "apples is not 95"
   ]
  },
  {
   "cell_type": "markdown",
   "id": "ea1b5e02",
   "metadata": {},
   "source": [
    "#### Membership Operators"
   ]
  },
  {
   "cell_type": "code",
   "execution_count": 270,
   "id": "19f77951",
   "metadata": {},
   "outputs": [],
   "source": [
    "apples = ['mango', 'orange', 'pawpaw', 'banana', 'guava', 'pineapple']"
   ]
  },
  {
   "cell_type": "code",
   "execution_count": 271,
   "id": "54154d3a",
   "metadata": {},
   "outputs": [
    {
     "data": {
      "text/plain": [
       "list"
      ]
     },
     "execution_count": 271,
     "metadata": {},
     "output_type": "execute_result"
    }
   ],
   "source": [
    "type(apples)"
   ]
  },
  {
   "cell_type": "code",
   "execution_count": 272,
   "id": "43cdb431",
   "metadata": {},
   "outputs": [
    {
     "data": {
      "text/plain": [
       "True"
      ]
     },
     "execution_count": 272,
     "metadata": {},
     "output_type": "execute_result"
    }
   ],
   "source": [
    "'pawpaw' in apples"
   ]
  },
  {
   "cell_type": "code",
   "execution_count": 273,
   "id": "4875551a",
   "metadata": {},
   "outputs": [
    {
     "data": {
      "text/plain": [
       "False"
      ]
     },
     "execution_count": 273,
     "metadata": {},
     "output_type": "execute_result"
    }
   ],
   "source": [
    "'sugarcane' in apples"
   ]
  },
  {
   "cell_type": "code",
   "execution_count": 274,
   "id": "f775e427",
   "metadata": {},
   "outputs": [
    {
     "data": {
      "text/plain": [
       "False"
      ]
     },
     "execution_count": 274,
     "metadata": {},
     "output_type": "execute_result"
    }
   ],
   "source": [
    "'guava' not in apples"
   ]
  },
  {
   "cell_type": "markdown",
   "id": "60858d8a",
   "metadata": {},
   "source": [
    "#### Assignment Operator"
   ]
  },
  {
   "cell_type": "markdown",
   "id": "e36bd4f4",
   "metadata": {},
   "source": [
    "###### +="
   ]
  },
  {
   "cell_type": "code",
   "execution_count": 275,
   "id": "0b9bfe5f",
   "metadata": {},
   "outputs": [],
   "source": [
    "children = 7"
   ]
  },
  {
   "cell_type": "code",
   "execution_count": 276,
   "id": "031a403e",
   "metadata": {},
   "outputs": [],
   "source": [
    "children = children + 6"
   ]
  },
  {
   "cell_type": "code",
   "execution_count": 277,
   "id": "834b933c",
   "metadata": {},
   "outputs": [
    {
     "data": {
      "text/plain": [
       "13"
      ]
     },
     "execution_count": 277,
     "metadata": {},
     "output_type": "execute_result"
    }
   ],
   "source": [
    "children"
   ]
  },
  {
   "cell_type": "code",
   "execution_count": 278,
   "id": "36c5186b",
   "metadata": {},
   "outputs": [],
   "source": [
    "children += 6"
   ]
  },
  {
   "cell_type": "code",
   "execution_count": 279,
   "id": "a160e387",
   "metadata": {},
   "outputs": [
    {
     "data": {
      "text/plain": [
       "19"
      ]
     },
     "execution_count": 279,
     "metadata": {},
     "output_type": "execute_result"
    }
   ],
   "source": [
    "children"
   ]
  },
  {
   "cell_type": "markdown",
   "id": "4a3170a6",
   "metadata": {},
   "source": [
    "###### -="
   ]
  },
  {
   "cell_type": "code",
   "execution_count": 280,
   "id": "6b2d41f5",
   "metadata": {},
   "outputs": [],
   "source": [
    "money = 3000"
   ]
  },
  {
   "cell_type": "code",
   "execution_count": 281,
   "id": "d3cd124f",
   "metadata": {},
   "outputs": [],
   "source": [
    "money = money - 500"
   ]
  },
  {
   "cell_type": "code",
   "execution_count": 282,
   "id": "6a92619c",
   "metadata": {},
   "outputs": [
    {
     "data": {
      "text/plain": [
       "2500"
      ]
     },
     "execution_count": 282,
     "metadata": {},
     "output_type": "execute_result"
    }
   ],
   "source": [
    "money"
   ]
  },
  {
   "cell_type": "code",
   "execution_count": 283,
   "id": "ffa893f3",
   "metadata": {},
   "outputs": [],
   "source": [
    "money -= 500"
   ]
  },
  {
   "cell_type": "markdown",
   "id": "4ce0e2ee",
   "metadata": {},
   "source": [
    "### Casting"
   ]
  },
  {
   "cell_type": "code",
   "execution_count": 284,
   "id": "56eab4a4",
   "metadata": {},
   "outputs": [
    {
     "data": {
      "text/plain": [
       "154"
      ]
     },
     "execution_count": 284,
     "metadata": {},
     "output_type": "execute_result"
    }
   ],
   "source": [
    "56 + 98"
   ]
  },
  {
   "cell_type": "code",
   "execution_count": 285,
   "id": "48365b36",
   "metadata": {},
   "outputs": [
    {
     "data": {
      "text/plain": [
       "101.5"
      ]
     },
     "execution_count": 285,
     "metadata": {},
     "output_type": "execute_result"
    }
   ],
   "source": [
    "87.5 + 14"
   ]
  },
  {
   "cell_type": "code",
   "execution_count": 286,
   "id": "f87c0a3a",
   "metadata": {},
   "outputs": [
    {
     "data": {
      "text/plain": [
       "28.0"
      ]
     },
     "execution_count": 286,
     "metadata": {},
     "output_type": "execute_result"
    }
   ],
   "source": [
    "14.0 + 14"
   ]
  },
  {
   "cell_type": "code",
   "execution_count": 287,
   "id": "77539533",
   "metadata": {},
   "outputs": [
    {
     "ename": "TypeError",
     "evalue": "unsupported operand type(s) for +: 'int' and 'str'",
     "output_type": "error",
     "traceback": [
      "\u001b[1;31m---------------------------------------------------------------------------\u001b[0m",
      "\u001b[1;31mTypeError\u001b[0m                                 Traceback (most recent call last)",
      "\u001b[1;32m~\\AppData\\Local\\Temp/ipykernel_34820/3254603937.py\u001b[0m in \u001b[0;36m<module>\u001b[1;34m\u001b[0m\n\u001b[1;32m----> 1\u001b[1;33m \u001b[1;36m23\u001b[0m \u001b[1;33m+\u001b[0m \u001b[1;34m'man'\u001b[0m\u001b[1;33m\u001b[0m\u001b[1;33m\u001b[0m\u001b[0m\n\u001b[0m",
      "\u001b[1;31mTypeError\u001b[0m: unsupported operand type(s) for +: 'int' and 'str'"
     ]
    }
   ],
   "source": [
    "23 + 'man'"
   ]
  },
  {
   "cell_type": "code",
   "execution_count": 288,
   "id": "d17fa92b",
   "metadata": {},
   "outputs": [
    {
     "data": {
      "text/plain": [
       "'23 man'"
      ]
     },
     "execution_count": 288,
     "metadata": {},
     "output_type": "execute_result"
    }
   ],
   "source": [
    "str(23) + ' man'"
   ]
  },
  {
   "cell_type": "code",
   "execution_count": 289,
   "id": "d4b18393",
   "metadata": {},
   "outputs": [],
   "source": [
    "age = 64"
   ]
  },
  {
   "cell_type": "code",
   "execution_count": 290,
   "id": "9bef5d67",
   "metadata": {},
   "outputs": [
    {
     "ename": "TypeError",
     "evalue": "can only concatenate str (not \"int\") to str",
     "output_type": "error",
     "traceback": [
      "\u001b[1;31m---------------------------------------------------------------------------\u001b[0m",
      "\u001b[1;31mTypeError\u001b[0m                                 Traceback (most recent call last)",
      "\u001b[1;32m~\\AppData\\Local\\Temp/ipykernel_34820/1474929955.py\u001b[0m in \u001b[0;36m<module>\u001b[1;34m\u001b[0m\n\u001b[1;32m----> 1\u001b[1;33m \u001b[1;34m'Ghana is'\u001b[0m \u001b[1;33m+\u001b[0m \u001b[0mage\u001b[0m \u001b[1;33m+\u001b[0m \u001b[1;34m'years old'\u001b[0m\u001b[1;33m\u001b[0m\u001b[1;33m\u001b[0m\u001b[0m\n\u001b[0m",
      "\u001b[1;31mTypeError\u001b[0m: can only concatenate str (not \"int\") to str"
     ]
    }
   ],
   "source": [
    "'Ghana is' + age + 'years old'"
   ]
  },
  {
   "cell_type": "code",
   "execution_count": 291,
   "id": "2a9472cd",
   "metadata": {},
   "outputs": [
    {
     "data": {
      "text/plain": [
       "'Ghana is 64 years old'"
      ]
     },
     "execution_count": 291,
     "metadata": {},
     "output_type": "execute_result"
    }
   ],
   "source": [
    "'Ghana is ' + str(age) + ' years old'"
   ]
  },
  {
   "cell_type": "code",
   "execution_count": 292,
   "id": "ad9182ac",
   "metadata": {},
   "outputs": [],
   "source": [
    "ama_age = 34\n",
    "kofi_age = 45\n",
    "wire = 34.0"
   ]
  },
  {
   "cell_type": "code",
   "execution_count": 293,
   "id": "bca24717",
   "metadata": {},
   "outputs": [
    {
     "data": {
      "text/plain": [
       "79"
      ]
     },
     "execution_count": 293,
     "metadata": {},
     "output_type": "execute_result"
    }
   ],
   "source": [
    "ama_age + kofi_age"
   ]
  },
  {
   "cell_type": "code",
   "execution_count": 294,
   "id": "a363e99b",
   "metadata": {},
   "outputs": [
    {
     "data": {
      "text/plain": [
       "113.0"
      ]
     },
     "execution_count": 294,
     "metadata": {},
     "output_type": "execute_result"
    }
   ],
   "source": [
    "ama_age + kofi_age + wire"
   ]
  },
  {
   "cell_type": "code",
   "execution_count": 295,
   "id": "3309022d",
   "metadata": {},
   "outputs": [
    {
     "data": {
      "text/plain": [
       "113"
      ]
     },
     "execution_count": 295,
     "metadata": {},
     "output_type": "execute_result"
    }
   ],
   "source": [
    "ama_age + kofi_age + int(wire)"
   ]
  },
  {
   "cell_type": "code",
   "execution_count": 296,
   "id": "60d97b90",
   "metadata": {},
   "outputs": [
    {
     "data": {
      "text/plain": [
       "34"
      ]
     },
     "execution_count": 296,
     "metadata": {},
     "output_type": "execute_result"
    }
   ],
   "source": [
    "int(34.7)"
   ]
  },
  {
   "cell_type": "markdown",
   "id": "faf4138e",
   "metadata": {},
   "source": [
    "### Python Lists"
   ]
  },
  {
   "cell_type": "code",
   "execution_count": 297,
   "id": "7979754c",
   "metadata": {},
   "outputs": [],
   "source": [
    "student_list = []"
   ]
  },
  {
   "cell_type": "code",
   "execution_count": 298,
   "id": "5c26d2ef",
   "metadata": {},
   "outputs": [
    {
     "data": {
      "text/plain": [
       "list"
      ]
     },
     "execution_count": 298,
     "metadata": {},
     "output_type": "execute_result"
    }
   ],
   "source": [
    "type(student_list)"
   ]
  },
  {
   "cell_type": "code",
   "execution_count": 299,
   "id": "097bbcc4",
   "metadata": {},
   "outputs": [],
   "source": [
    "student_list = ['Rabbles', 'Joseph', 'Richard', 'Michael', 'Georgina']"
   ]
  },
  {
   "cell_type": "code",
   "execution_count": 300,
   "id": "669dc50d",
   "metadata": {},
   "outputs": [],
   "source": [
    "random_list = [23, 'man', 44.5, False, 'mango']"
   ]
  },
  {
   "cell_type": "code",
   "execution_count": 301,
   "id": "58b60c6e",
   "metadata": {},
   "outputs": [],
   "source": [
    "age_list = list()"
   ]
  },
  {
   "cell_type": "code",
   "execution_count": 302,
   "id": "cb594929",
   "metadata": {},
   "outputs": [
    {
     "data": {
      "text/plain": [
       "list"
      ]
     },
     "execution_count": 302,
     "metadata": {},
     "output_type": "execute_result"
    }
   ],
   "source": [
    "type(age_list)"
   ]
  },
  {
   "cell_type": "code",
   "execution_count": 303,
   "id": "5f74a46b",
   "metadata": {},
   "outputs": [
    {
     "ename": "TypeError",
     "evalue": "list expected at most 1 argument, got 2",
     "output_type": "error",
     "traceback": [
      "\u001b[1;31m---------------------------------------------------------------------------\u001b[0m",
      "\u001b[1;31mTypeError\u001b[0m                                 Traceback (most recent call last)",
      "\u001b[1;32m~\\AppData\\Local\\Temp/ipykernel_34820/2885318697.py\u001b[0m in \u001b[0;36m<module>\u001b[1;34m\u001b[0m\n\u001b[1;32m----> 1\u001b[1;33m \u001b[0mage_list\u001b[0m \u001b[1;33m=\u001b[0m \u001b[0mlist\u001b[0m\u001b[1;33m(\u001b[0m\u001b[1;36m56\u001b[0m\u001b[1;33m,\u001b[0m \u001b[1;36m89\u001b[0m\u001b[1;33m)\u001b[0m\u001b[1;33m\u001b[0m\u001b[1;33m\u001b[0m\u001b[0m\n\u001b[0m",
      "\u001b[1;31mTypeError\u001b[0m: list expected at most 1 argument, got 2"
     ]
    }
   ],
   "source": [
    "age_list = list(56, 89)"
   ]
  },
  {
   "cell_type": "code",
   "execution_count": 304,
   "id": "25557ef5",
   "metadata": {},
   "outputs": [],
   "source": [
    "age_list.append(14)"
   ]
  },
  {
   "cell_type": "code",
   "execution_count": 305,
   "id": "e08f1851",
   "metadata": {},
   "outputs": [
    {
     "data": {
      "text/plain": [
       "[14]"
      ]
     },
     "execution_count": 305,
     "metadata": {},
     "output_type": "execute_result"
    }
   ],
   "source": [
    "age_list"
   ]
  },
  {
   "cell_type": "markdown",
   "id": "f86f4e80",
   "metadata": {},
   "source": [
    "##### Ranges"
   ]
  },
  {
   "cell_type": "code",
   "execution_count": 306,
   "id": "fdbaa472",
   "metadata": {},
   "outputs": [
    {
     "data": {
      "text/plain": [
       "[2, 3, 4, 5, 6, 7, 8, 9, 10, 11, 12, 13, 14, 15, 16, 17]"
      ]
     },
     "execution_count": 306,
     "metadata": {},
     "output_type": "execute_result"
    }
   ],
   "source": [
    "list(range(2,18))"
   ]
  },
  {
   "cell_type": "code",
   "execution_count": 307,
   "id": "66882d5e",
   "metadata": {},
   "outputs": [
    {
     "data": {
      "text/plain": [
       "[2, 5, 8, 11, 14]"
      ]
     },
     "execution_count": 307,
     "metadata": {},
     "output_type": "execute_result"
    }
   ],
   "source": [
    "list(range(2,17,3))"
   ]
  },
  {
   "cell_type": "code",
   "execution_count": 308,
   "id": "31c1f5de",
   "metadata": {},
   "outputs": [
    {
     "data": {
      "text/plain": [
       "[4, 9, 14, 19, 24, 29, 34, 39, 44, 49, 54, 59, 64, 69, 74, 79, 84, 89, 94, 99]"
      ]
     },
     "execution_count": 308,
     "metadata": {},
     "output_type": "execute_result"
    }
   ],
   "source": [
    "list(range(4, 103, 5))"
   ]
  },
  {
   "cell_type": "markdown",
   "id": "2d6b0e8e",
   "metadata": {},
   "source": [
    "##### Indexing"
   ]
  },
  {
   "cell_type": "code",
   "execution_count": 309,
   "id": "060b777d",
   "metadata": {},
   "outputs": [
    {
     "data": {
      "text/plain": [
       "[4, 9, 14, 19, 24, 29, 34, 39, 44, 49, 54, 59, 64, 69, 74, 79, 84, 89, 94, 99]"
      ]
     },
     "execution_count": 309,
     "metadata": {},
     "output_type": "execute_result"
    }
   ],
   "source": [
    "random_list = list(range(4, 103, 5))\n",
    "random_list"
   ]
  },
  {
   "cell_type": "code",
   "execution_count": 310,
   "id": "14659049",
   "metadata": {},
   "outputs": [
    {
     "data": {
      "text/plain": [
       "59"
      ]
     },
     "execution_count": 310,
     "metadata": {},
     "output_type": "execute_result"
    }
   ],
   "source": [
    "random_list[11]"
   ]
  },
  {
   "cell_type": "code",
   "execution_count": 311,
   "id": "fb421cbf",
   "metadata": {},
   "outputs": [
    {
     "data": {
      "text/plain": [
       "[14, 19, 24, 29, 34, 39, 44, 49, 54, 59]"
      ]
     },
     "execution_count": 311,
     "metadata": {},
     "output_type": "execute_result"
    }
   ],
   "source": [
    "random_list[2:12]"
   ]
  },
  {
   "cell_type": "code",
   "execution_count": 312,
   "id": "00ea2566",
   "metadata": {
    "scrolled": true
   },
   "outputs": [
    {
     "data": {
      "text/plain": [
       "[2,\n",
       " 7,\n",
       " 12,\n",
       " 17,\n",
       " 22,\n",
       " 27,\n",
       " 32,\n",
       " 37,\n",
       " 42,\n",
       " 47,\n",
       " 52,\n",
       " 57,\n",
       " 62,\n",
       " 67,\n",
       " 72,\n",
       " 77,\n",
       " 82,\n",
       " 87,\n",
       " 92,\n",
       " 97,\n",
       " 102,\n",
       " 107,\n",
       " 112,\n",
       " 117,\n",
       " 122,\n",
       " 127,\n",
       " 132,\n",
       " 137,\n",
       " 142,\n",
       " 147,\n",
       " 152,\n",
       " 157,\n",
       " 162,\n",
       " 167,\n",
       " 172,\n",
       " 177,\n",
       " 182,\n",
       " 187,\n",
       " 192,\n",
       " 197,\n",
       " 202,\n",
       " 207,\n",
       " 212,\n",
       " 217,\n",
       " 222,\n",
       " 227,\n",
       " 232,\n",
       " 237,\n",
       " 242,\n",
       " 247,\n",
       " 252,\n",
       " 257,\n",
       " 262,\n",
       " 267,\n",
       " 272,\n",
       " 277,\n",
       " 282,\n",
       " 287,\n",
       " 292,\n",
       " 297,\n",
       " 302,\n",
       " 307,\n",
       " 312,\n",
       " 317,\n",
       " 322,\n",
       " 327,\n",
       " 332,\n",
       " 337,\n",
       " 342,\n",
       " 347,\n",
       " 352,\n",
       " 357,\n",
       " 362,\n",
       " 367,\n",
       " 372,\n",
       " 377,\n",
       " 382,\n",
       " 387,\n",
       " 392,\n",
       " 397,\n",
       " 402,\n",
       " 407,\n",
       " 412,\n",
       " 417,\n",
       " 422,\n",
       " 427,\n",
       " 432,\n",
       " 437,\n",
       " 442,\n",
       " 447,\n",
       " 452,\n",
       " 457,\n",
       " 462,\n",
       " 467,\n",
       " 472,\n",
       " 477,\n",
       " 482,\n",
       " 487,\n",
       " 492,\n",
       " 497,\n",
       " 502,\n",
       " 507,\n",
       " 512,\n",
       " 517,\n",
       " 522,\n",
       " 527,\n",
       " 532,\n",
       " 537,\n",
       " 542,\n",
       " 547,\n",
       " 552,\n",
       " 557,\n",
       " 562,\n",
       " 567,\n",
       " 572,\n",
       " 577,\n",
       " 582,\n",
       " 587,\n",
       " 592,\n",
       " 597,\n",
       " 602,\n",
       " 607,\n",
       " 612,\n",
       " 617,\n",
       " 622,\n",
       " 627,\n",
       " 632,\n",
       " 637,\n",
       " 642,\n",
       " 647,\n",
       " 652,\n",
       " 657,\n",
       " 662,\n",
       " 667,\n",
       " 672,\n",
       " 677,\n",
       " 682,\n",
       " 687,\n",
       " 692,\n",
       " 697,\n",
       " 702,\n",
       " 707,\n",
       " 712,\n",
       " 717,\n",
       " 722,\n",
       " 727,\n",
       " 732,\n",
       " 737,\n",
       " 742,\n",
       " 747,\n",
       " 752,\n",
       " 757,\n",
       " 762,\n",
       " 767,\n",
       " 772,\n",
       " 777,\n",
       " 782,\n",
       " 787,\n",
       " 792,\n",
       " 797,\n",
       " 802,\n",
       " 807,\n",
       " 812,\n",
       " 817,\n",
       " 822,\n",
       " 827,\n",
       " 832,\n",
       " 837,\n",
       " 842,\n",
       " 847,\n",
       " 852,\n",
       " 857,\n",
       " 862,\n",
       " 867,\n",
       " 872,\n",
       " 877,\n",
       " 882,\n",
       " 887,\n",
       " 892,\n",
       " 897,\n",
       " 902,\n",
       " 907,\n",
       " 912,\n",
       " 917,\n",
       " 922,\n",
       " 927,\n",
       " 932,\n",
       " 937,\n",
       " 942,\n",
       " 947,\n",
       " 952,\n",
       " 957,\n",
       " 962,\n",
       " 967,\n",
       " 972,\n",
       " 977,\n",
       " 982,\n",
       " 987,\n",
       " 992,\n",
       " 997,\n",
       " 1002,\n",
       " 1007,\n",
       " 1012,\n",
       " 1017,\n",
       " 1022,\n",
       " 1027,\n",
       " 1032,\n",
       " 1037,\n",
       " 1042,\n",
       " 1047,\n",
       " 1052,\n",
       " 1057,\n",
       " 1062,\n",
       " 1067,\n",
       " 1072,\n",
       " 1077,\n",
       " 1082,\n",
       " 1087,\n",
       " 1092,\n",
       " 1097,\n",
       " 1102,\n",
       " 1107,\n",
       " 1112,\n",
       " 1117,\n",
       " 1122,\n",
       " 1127,\n",
       " 1132,\n",
       " 1137,\n",
       " 1142,\n",
       " 1147,\n",
       " 1152,\n",
       " 1157,\n",
       " 1162,\n",
       " 1167,\n",
       " 1172,\n",
       " 1177,\n",
       " 1182,\n",
       " 1187,\n",
       " 1192,\n",
       " 1197,\n",
       " 1202,\n",
       " 1207,\n",
       " 1212,\n",
       " 1217,\n",
       " 1222,\n",
       " 1227,\n",
       " 1232,\n",
       " 1237,\n",
       " 1242,\n",
       " 1247,\n",
       " 1252,\n",
       " 1257,\n",
       " 1262,\n",
       " 1267,\n",
       " 1272,\n",
       " 1277,\n",
       " 1282,\n",
       " 1287,\n",
       " 1292,\n",
       " 1297,\n",
       " 1302,\n",
       " 1307,\n",
       " 1312,\n",
       " 1317,\n",
       " 1322,\n",
       " 1327,\n",
       " 1332,\n",
       " 1337,\n",
       " 1342,\n",
       " 1347,\n",
       " 1352,\n",
       " 1357,\n",
       " 1362,\n",
       " 1367,\n",
       " 1372,\n",
       " 1377,\n",
       " 1382,\n",
       " 1387,\n",
       " 1392,\n",
       " 1397,\n",
       " 1402,\n",
       " 1407,\n",
       " 1412,\n",
       " 1417,\n",
       " 1422,\n",
       " 1427,\n",
       " 1432,\n",
       " 1437,\n",
       " 1442,\n",
       " 1447,\n",
       " 1452,\n",
       " 1457,\n",
       " 1462,\n",
       " 1467,\n",
       " 1472,\n",
       " 1477,\n",
       " 1482,\n",
       " 1487,\n",
       " 1492,\n",
       " 1497,\n",
       " 1502,\n",
       " 1507,\n",
       " 1512,\n",
       " 1517,\n",
       " 1522,\n",
       " 1527,\n",
       " 1532,\n",
       " 1537,\n",
       " 1542,\n",
       " 1547,\n",
       " 1552,\n",
       " 1557,\n",
       " 1562,\n",
       " 1567,\n",
       " 1572,\n",
       " 1577,\n",
       " 1582,\n",
       " 1587,\n",
       " 1592,\n",
       " 1597,\n",
       " 1602,\n",
       " 1607,\n",
       " 1612,\n",
       " 1617,\n",
       " 1622,\n",
       " 1627,\n",
       " 1632,\n",
       " 1637,\n",
       " 1642,\n",
       " 1647,\n",
       " 1652,\n",
       " 1657,\n",
       " 1662,\n",
       " 1667,\n",
       " 1672,\n",
       " 1677,\n",
       " 1682,\n",
       " 1687,\n",
       " 1692,\n",
       " 1697,\n",
       " 1702,\n",
       " 1707,\n",
       " 1712,\n",
       " 1717,\n",
       " 1722,\n",
       " 1727,\n",
       " 1732,\n",
       " 1737,\n",
       " 1742,\n",
       " 1747,\n",
       " 1752,\n",
       " 1757,\n",
       " 1762,\n",
       " 1767,\n",
       " 1772,\n",
       " 1777,\n",
       " 1782,\n",
       " 1787,\n",
       " 1792,\n",
       " 1797,\n",
       " 1802,\n",
       " 1807,\n",
       " 1812,\n",
       " 1817,\n",
       " 1822,\n",
       " 1827,\n",
       " 1832,\n",
       " 1837,\n",
       " 1842,\n",
       " 1847,\n",
       " 1852,\n",
       " 1857,\n",
       " 1862,\n",
       " 1867,\n",
       " 1872,\n",
       " 1877,\n",
       " 1882,\n",
       " 1887,\n",
       " 1892,\n",
       " 1897,\n",
       " 1902,\n",
       " 1907,\n",
       " 1912,\n",
       " 1917,\n",
       " 1922,\n",
       " 1927,\n",
       " 1932,\n",
       " 1937,\n",
       " 1942,\n",
       " 1947,\n",
       " 1952,\n",
       " 1957,\n",
       " 1962,\n",
       " 1967,\n",
       " 1972,\n",
       " 1977,\n",
       " 1982,\n",
       " 1987,\n",
       " 1992,\n",
       " 1997,\n",
       " 2002]"
      ]
     },
     "execution_count": 312,
     "metadata": {},
     "output_type": "execute_result"
    }
   ],
   "source": [
    "long_list =list(range(2,2004, 5))\n",
    "long_list"
   ]
  },
  {
   "cell_type": "code",
   "execution_count": 313,
   "id": "d18976a3",
   "metadata": {},
   "outputs": [
    {
     "data": {
      "text/plain": [
       "[1967, 1972, 1977, 1982, 1987, 1992, 1997]"
      ]
     },
     "execution_count": 313,
     "metadata": {},
     "output_type": "execute_result"
    }
   ],
   "source": [
    "long_list[-8:-1]"
   ]
  },
  {
   "cell_type": "markdown",
   "id": "4e389266",
   "metadata": {},
   "source": [
    "##### Continuation of Python Lists"
   ]
  },
  {
   "cell_type": "code",
   "execution_count": 314,
   "id": "dcf6b8a9",
   "metadata": {},
   "outputs": [
    {
     "data": {
      "text/plain": [
       "[14]"
      ]
     },
     "execution_count": 314,
     "metadata": {},
     "output_type": "execute_result"
    }
   ],
   "source": [
    "age_list"
   ]
  },
  {
   "cell_type": "code",
   "execution_count": 315,
   "id": "06d4db2a",
   "metadata": {},
   "outputs": [],
   "source": [
    "age_list.append(2)"
   ]
  },
  {
   "cell_type": "code",
   "execution_count": 316,
   "id": "780b2910",
   "metadata": {},
   "outputs": [
    {
     "data": {
      "text/plain": [
       "[14, 2]"
      ]
     },
     "execution_count": 316,
     "metadata": {},
     "output_type": "execute_result"
    }
   ],
   "source": [
    "age_list"
   ]
  },
  {
   "cell_type": "code",
   "execution_count": 317,
   "id": "d92a5591",
   "metadata": {},
   "outputs": [],
   "source": [
    "age_list.insert(2, 'man')"
   ]
  },
  {
   "cell_type": "code",
   "execution_count": 318,
   "id": "59b60167",
   "metadata": {},
   "outputs": [
    {
     "data": {
      "text/plain": [
       "[14, 2, 'man']"
      ]
     },
     "execution_count": 318,
     "metadata": {},
     "output_type": "execute_result"
    }
   ],
   "source": [
    "age_list"
   ]
  },
  {
   "cell_type": "code",
   "execution_count": 319,
   "id": "57a7e9b8",
   "metadata": {},
   "outputs": [],
   "source": [
    "age_list.remove('man')"
   ]
  },
  {
   "cell_type": "code",
   "execution_count": 320,
   "id": "3e34fb40",
   "metadata": {},
   "outputs": [
    {
     "data": {
      "text/plain": [
       "[14, 2]"
      ]
     },
     "execution_count": 320,
     "metadata": {},
     "output_type": "execute_result"
    }
   ],
   "source": [
    "age_list"
   ]
  },
  {
   "cell_type": "code",
   "execution_count": 321,
   "id": "8666430e",
   "metadata": {},
   "outputs": [
    {
     "data": {
      "text/plain": [
       "2"
      ]
     },
     "execution_count": 321,
     "metadata": {},
     "output_type": "execute_result"
    }
   ],
   "source": [
    "age_list.pop()"
   ]
  },
  {
   "cell_type": "code",
   "execution_count": 322,
   "id": "fe5d76d7",
   "metadata": {},
   "outputs": [
    {
     "data": {
      "text/plain": [
       "[14]"
      ]
     },
     "execution_count": 322,
     "metadata": {},
     "output_type": "execute_result"
    }
   ],
   "source": [
    "age_list"
   ]
  },
  {
   "cell_type": "code",
   "execution_count": 323,
   "id": "3b5866ae",
   "metadata": {},
   "outputs": [
    {
     "data": {
      "text/plain": [
       "14"
      ]
     },
     "execution_count": 323,
     "metadata": {},
     "output_type": "execute_result"
    }
   ],
   "source": [
    "age_list.pop()"
   ]
  },
  {
   "cell_type": "code",
   "execution_count": 324,
   "id": "7e7bd656",
   "metadata": {},
   "outputs": [
    {
     "data": {
      "text/plain": [
       "[]"
      ]
     },
     "execution_count": 324,
     "metadata": {},
     "output_type": "execute_result"
    }
   ],
   "source": [
    "age_list"
   ]
  },
  {
   "cell_type": "code",
   "execution_count": 325,
   "id": "6bf5cee2",
   "metadata": {},
   "outputs": [
    {
     "ename": "IndexError",
     "evalue": "pop from empty list",
     "output_type": "error",
     "traceback": [
      "\u001b[1;31m---------------------------------------------------------------------------\u001b[0m",
      "\u001b[1;31mIndexError\u001b[0m                                Traceback (most recent call last)",
      "\u001b[1;32m~\\AppData\\Local\\Temp/ipykernel_34820/2049574815.py\u001b[0m in \u001b[0;36m<module>\u001b[1;34m\u001b[0m\n\u001b[1;32m----> 1\u001b[1;33m \u001b[0mage_list\u001b[0m\u001b[1;33m.\u001b[0m\u001b[0mpop\u001b[0m\u001b[1;33m(\u001b[0m\u001b[1;36m2\u001b[0m\u001b[1;33m)\u001b[0m\u001b[1;33m\u001b[0m\u001b[1;33m\u001b[0m\u001b[0m\n\u001b[0m",
      "\u001b[1;31mIndexError\u001b[0m: pop from empty list"
     ]
    }
   ],
   "source": [
    "age_list.pop(2)"
   ]
  },
  {
   "cell_type": "code",
   "execution_count": 326,
   "id": "ea1e228d",
   "metadata": {},
   "outputs": [
    {
     "data": {
      "text/plain": [
       "[]"
      ]
     },
     "execution_count": 326,
     "metadata": {},
     "output_type": "execute_result"
    }
   ],
   "source": [
    "age_list"
   ]
  },
  {
   "cell_type": "code",
   "execution_count": 327,
   "id": "c1ec3618",
   "metadata": {},
   "outputs": [
    {
     "data": {
      "text/plain": [
       "401"
      ]
     },
     "execution_count": 327,
     "metadata": {},
     "output_type": "execute_result"
    }
   ],
   "source": [
    "len(long_list)"
   ]
  },
  {
   "cell_type": "code",
   "execution_count": 328,
   "id": "a4cf7cc1",
   "metadata": {},
   "outputs": [
    {
     "name": "stdout",
     "output_type": "stream",
     "text": [
      "Number of even numbers in the long_list is 201\n"
     ]
    }
   ],
   "source": [
    "empty_list = []\n",
    "for num in long_list:\n",
    "    if num%2 == 0:\n",
    "        empty_list.append(num)\n",
    "print('Number of even numbers in the long_list is', len(empty_list))"
   ]
  },
  {
   "cell_type": "code",
   "execution_count": 329,
   "id": "e6062379",
   "metadata": {},
   "outputs": [],
   "source": [
    "# empty_list"
   ]
  },
  {
   "cell_type": "code",
   "execution_count": 330,
   "id": "d1157b7c",
   "metadata": {},
   "outputs": [],
   "source": [
    "colors = ['black', 'red', 'black', 'green', 'black', 'violet', 'blue', 'burgundy', 'azure', 'orange']"
   ]
  },
  {
   "cell_type": "code",
   "execution_count": 331,
   "id": "ba8308ae",
   "metadata": {},
   "outputs": [
    {
     "data": {
      "text/plain": [
       "3"
      ]
     },
     "execution_count": 331,
     "metadata": {},
     "output_type": "execute_result"
    }
   ],
   "source": [
    "colors.count('black')"
   ]
  },
  {
   "cell_type": "code",
   "execution_count": 332,
   "id": "7fee36d0",
   "metadata": {},
   "outputs": [],
   "source": [
    "colors2 = colors.copy()"
   ]
  },
  {
   "cell_type": "code",
   "execution_count": 333,
   "id": "cf72849c",
   "metadata": {},
   "outputs": [
    {
     "data": {
      "text/plain": [
       "['black',\n",
       " 'red',\n",
       " 'black',\n",
       " 'green',\n",
       " 'black',\n",
       " 'violet',\n",
       " 'blue',\n",
       " 'burgundy',\n",
       " 'azure',\n",
       " 'orange']"
      ]
     },
     "execution_count": 333,
     "metadata": {},
     "output_type": "execute_result"
    }
   ],
   "source": [
    "colors2"
   ]
  },
  {
   "cell_type": "code",
   "execution_count": 334,
   "id": "5857435a",
   "metadata": {},
   "outputs": [
    {
     "data": {
      "text/plain": [
       "['black',\n",
       " 'red',\n",
       " 'black',\n",
       " 'green',\n",
       " 'black',\n",
       " 'violet',\n",
       " 'blue',\n",
       " 'burgundy',\n",
       " 'azure',\n",
       " 'orange']"
      ]
     },
     "execution_count": 334,
     "metadata": {},
     "output_type": "execute_result"
    }
   ],
   "source": [
    "colors"
   ]
  },
  {
   "cell_type": "code",
   "execution_count": 335,
   "id": "3b5d7d3f",
   "metadata": {},
   "outputs": [],
   "source": [
    "age_list.append(786)"
   ]
  },
  {
   "cell_type": "code",
   "execution_count": 336,
   "id": "5eb744ea",
   "metadata": {},
   "outputs": [
    {
     "data": {
      "text/plain": [
       "[786]"
      ]
     },
     "execution_count": 336,
     "metadata": {},
     "output_type": "execute_result"
    }
   ],
   "source": [
    "age_list"
   ]
  },
  {
   "cell_type": "code",
   "execution_count": 337,
   "id": "020ca160",
   "metadata": {},
   "outputs": [],
   "source": [
    "age_list.sort()"
   ]
  },
  {
   "cell_type": "code",
   "execution_count": 338,
   "id": "41f3b5c5",
   "metadata": {},
   "outputs": [
    {
     "data": {
      "text/plain": [
       "[786]"
      ]
     },
     "execution_count": 338,
     "metadata": {},
     "output_type": "execute_result"
    }
   ],
   "source": [
    "age_list"
   ]
  },
  {
   "cell_type": "code",
   "execution_count": 339,
   "id": "5d7dcadf",
   "metadata": {},
   "outputs": [],
   "source": [
    "age_list.sort(reverse = True)"
   ]
  },
  {
   "cell_type": "code",
   "execution_count": 340,
   "id": "a6b0e8af",
   "metadata": {},
   "outputs": [
    {
     "data": {
      "text/plain": [
       "[786]"
      ]
     },
     "execution_count": 340,
     "metadata": {},
     "output_type": "execute_result"
    }
   ],
   "source": [
    "age_list"
   ]
  },
  {
   "cell_type": "code",
   "execution_count": 341,
   "id": "ebe653ed",
   "metadata": {},
   "outputs": [
    {
     "ename": "IndexError",
     "evalue": "list assignment index out of range",
     "output_type": "error",
     "traceback": [
      "\u001b[1;31m---------------------------------------------------------------------------\u001b[0m",
      "\u001b[1;31mIndexError\u001b[0m                                Traceback (most recent call last)",
      "\u001b[1;32m~\\AppData\\Local\\Temp/ipykernel_34820/606709318.py\u001b[0m in \u001b[0;36m<module>\u001b[1;34m\u001b[0m\n\u001b[1;32m----> 1\u001b[1;33m \u001b[0mage_list\u001b[0m\u001b[1;33m[\u001b[0m\u001b[1;36m1\u001b[0m\u001b[1;33m]\u001b[0m \u001b[1;33m=\u001b[0m \u001b[1;36m195\u001b[0m\u001b[1;33m\u001b[0m\u001b[1;33m\u001b[0m\u001b[0m\n\u001b[0m",
      "\u001b[1;31mIndexError\u001b[0m: list assignment index out of range"
     ]
    }
   ],
   "source": [
    "age_list[1] = 195"
   ]
  },
  {
   "cell_type": "code",
   "execution_count": 342,
   "id": "717d8f62",
   "metadata": {},
   "outputs": [
    {
     "data": {
      "text/plain": [
       "[786]"
      ]
     },
     "execution_count": 342,
     "metadata": {},
     "output_type": "execute_result"
    }
   ],
   "source": [
    "age_list"
   ]
  },
  {
   "cell_type": "markdown",
   "id": "8a2c82e5",
   "metadata": {},
   "source": [
    "### Dictionaries"
   ]
  },
  {
   "cell_type": "code",
   "execution_count": 343,
   "id": "b29b301f",
   "metadata": {},
   "outputs": [],
   "source": [
    "dict1 = {}"
   ]
  },
  {
   "cell_type": "code",
   "execution_count": 344,
   "id": "f29aa39d",
   "metadata": {},
   "outputs": [
    {
     "data": {
      "text/plain": [
       "dict"
      ]
     },
     "execution_count": 344,
     "metadata": {},
     "output_type": "execute_result"
    }
   ],
   "source": [
    "type(dict1)"
   ]
  },
  {
   "cell_type": "code",
   "execution_count": 345,
   "id": "2275e596",
   "metadata": {},
   "outputs": [],
   "source": [
    "dict2 = dict()"
   ]
  },
  {
   "cell_type": "code",
   "execution_count": 346,
   "id": "a5b3db43",
   "metadata": {},
   "outputs": [
    {
     "data": {
      "text/plain": [
       "dict"
      ]
     },
     "execution_count": 346,
     "metadata": {},
     "output_type": "execute_result"
    }
   ],
   "source": [
    "type(dict2)"
   ]
  },
  {
   "cell_type": "code",
   "execution_count": 347,
   "id": "4d3cea6d",
   "metadata": {},
   "outputs": [],
   "source": [
    "dict1 = {'name': 'Kwesi', 'age': 23, 'hometown': 'Shiashi', 'shoe size': 43}"
   ]
  },
  {
   "cell_type": "code",
   "execution_count": 348,
   "id": "29665f46",
   "metadata": {},
   "outputs": [
    {
     "data": {
      "text/plain": [
       "{'name': 'Kwesi', 'age': 23, 'hometown': 'Shiashi', 'shoe size': 43}"
      ]
     },
     "execution_count": 348,
     "metadata": {},
     "output_type": "execute_result"
    }
   ],
   "source": [
    "dict1"
   ]
  },
  {
   "cell_type": "code",
   "execution_count": 349,
   "id": "b87fd506",
   "metadata": {},
   "outputs": [
    {
     "data": {
      "text/plain": [
       "dict_keys(['name', 'age', 'hometown', 'shoe size'])"
      ]
     },
     "execution_count": 349,
     "metadata": {},
     "output_type": "execute_result"
    }
   ],
   "source": [
    "dict1.keys()"
   ]
  },
  {
   "cell_type": "code",
   "execution_count": 350,
   "id": "d987ae9e",
   "metadata": {},
   "outputs": [
    {
     "data": {
      "text/plain": [
       "dict_values(['Kwesi', 23, 'Shiashi', 43])"
      ]
     },
     "execution_count": 350,
     "metadata": {},
     "output_type": "execute_result"
    }
   ],
   "source": [
    "dict1.values()"
   ]
  },
  {
   "cell_type": "code",
   "execution_count": 351,
   "id": "ab2c42cd",
   "metadata": {},
   "outputs": [],
   "source": [
    "dict1['age'] = 56"
   ]
  },
  {
   "cell_type": "code",
   "execution_count": 352,
   "id": "d093e5db",
   "metadata": {},
   "outputs": [
    {
     "data": {
      "text/plain": [
       "{'name': 'Kwesi', 'age': 56, 'hometown': 'Shiashi', 'shoe size': 43}"
      ]
     },
     "execution_count": 352,
     "metadata": {},
     "output_type": "execute_result"
    }
   ],
   "source": [
    "dict1"
   ]
  },
  {
   "cell_type": "code",
   "execution_count": 353,
   "id": "cf12a82b",
   "metadata": {},
   "outputs": [],
   "source": [
    "dict1['color'] = 'dark'"
   ]
  },
  {
   "cell_type": "code",
   "execution_count": 354,
   "id": "eb6b1a9b",
   "metadata": {},
   "outputs": [
    {
     "data": {
      "text/plain": [
       "{'name': 'Kwesi',\n",
       " 'age': 56,\n",
       " 'hometown': 'Shiashi',\n",
       " 'shoe size': 43,\n",
       " 'color': 'dark'}"
      ]
     },
     "execution_count": 354,
     "metadata": {},
     "output_type": "execute_result"
    }
   ],
   "source": [
    "dict1"
   ]
  },
  {
   "cell_type": "code",
   "execution_count": 355,
   "id": "65f38074",
   "metadata": {},
   "outputs": [
    {
     "data": {
      "text/plain": [
       "43"
      ]
     },
     "execution_count": 355,
     "metadata": {},
     "output_type": "execute_result"
    }
   ],
   "source": [
    "dict1.pop('shoe size')"
   ]
  },
  {
   "cell_type": "code",
   "execution_count": 356,
   "id": "986cc974",
   "metadata": {},
   "outputs": [
    {
     "data": {
      "text/plain": [
       "{'name': 'Kwesi', 'age': 56, 'hometown': 'Shiashi', 'color': 'dark'}"
      ]
     },
     "execution_count": 356,
     "metadata": {},
     "output_type": "execute_result"
    }
   ],
   "source": [
    "dict1"
   ]
  },
  {
   "cell_type": "code",
   "execution_count": 357,
   "id": "ee2df8ed",
   "metadata": {},
   "outputs": [
    {
     "data": {
      "text/plain": [
       "('color', 'dark')"
      ]
     },
     "execution_count": 357,
     "metadata": {},
     "output_type": "execute_result"
    }
   ],
   "source": [
    "dict1.popitem()"
   ]
  },
  {
   "cell_type": "code",
   "execution_count": 358,
   "id": "425b7be2",
   "metadata": {},
   "outputs": [
    {
     "data": {
      "text/plain": [
       "{'name': 'Kwesi', 'age': 56, 'hometown': 'Shiashi'}"
      ]
     },
     "execution_count": 358,
     "metadata": {},
     "output_type": "execute_result"
    }
   ],
   "source": [
    "dict1"
   ]
  },
  {
   "cell_type": "code",
   "execution_count": 359,
   "id": "fe6208ce",
   "metadata": {},
   "outputs": [
    {
     "data": {
      "text/plain": [
       "3"
      ]
     },
     "execution_count": 359,
     "metadata": {},
     "output_type": "execute_result"
    }
   ],
   "source": [
    "len(dict1)"
   ]
  },
  {
   "cell_type": "code",
   "execution_count": 360,
   "id": "23a2e74d",
   "metadata": {},
   "outputs": [],
   "source": [
    "dict2 = dict1.copy()"
   ]
  },
  {
   "cell_type": "code",
   "execution_count": 361,
   "id": "a909f391",
   "metadata": {},
   "outputs": [
    {
     "data": {
      "text/plain": [
       "{'name': 'Kwesi', 'age': 56, 'hometown': 'Shiashi'}"
      ]
     },
     "execution_count": 361,
     "metadata": {},
     "output_type": "execute_result"
    }
   ],
   "source": [
    "dict2"
   ]
  },
  {
   "cell_type": "markdown",
   "id": "1841f940",
   "metadata": {},
   "source": [
    "### If-else loop"
   ]
  },
  {
   "cell_type": "code",
   "execution_count": 362,
   "id": "a8d1a7cd",
   "metadata": {},
   "outputs": [],
   "source": [
    "items = ['aba', 'mango', 'life', 'car', 'boy', 'elephant', 'is', 'arise',  'girl', 'she', 'to']"
   ]
  },
  {
   "cell_type": "code",
   "execution_count": 363,
   "id": "a18ae0ac",
   "metadata": {},
   "outputs": [
    {
     "name": "stdout",
     "output_type": "stream",
     "text": [
      "Length of aba is more than two\n",
      "Length of mango is more than two\n",
      "Length of life is more than two\n",
      "Length of car is more than two\n",
      "Length of boy is more than two\n",
      "Length of elephant is more than two\n",
      "Length of is is 2\n",
      "Length of arise is more than two\n",
      "Length of girl is more than two\n",
      "Length of she is more than two\n",
      "Length of to is 2\n"
     ]
    }
   ],
   "source": [
    "for entity in items:\n",
    "    if len(entity) == 2:\n",
    "        print('Length of ' + entity + ' is ' + str(len(entity)))\n",
    "    else:\n",
    "        print('Length of ' + entity + ' is more than two')\n",
    "    "
   ]
  },
  {
   "cell_type": "code",
   "execution_count": 364,
   "id": "c9478261",
   "metadata": {},
   "outputs": [
    {
     "name": "stdout",
     "output_type": "stream",
     "text": [
      "aba is a three lettered word\n",
      "mango is more than a four lettered word\n",
      "life is a four lettered word\n",
      "car is a three lettered word\n",
      "boy is a three lettered word\n",
      "elephant is more than a four lettered word\n",
      "is is a two lettered word\n",
      "arise is more than a four lettered word\n",
      "girl is a four lettered word\n",
      "she is a three lettered word\n",
      "to is a two lettered word\n"
     ]
    }
   ],
   "source": [
    "for word in items:\n",
    "    if len(word) == 2:\n",
    "        print(word + ' is a two lettered word')\n",
    "    elif len(word) == 3:\n",
    "        print(word + ' is a three lettered word')\n",
    "    elif len(word) == 4:\n",
    "        print(word + ' is a four lettered word')\n",
    "    else:\n",
    "        print(word + ' is more than a four lettered word')\n",
    "        \n",
    "    "
   ]
  },
  {
   "cell_type": "markdown",
   "id": "dcb3a511",
   "metadata": {},
   "source": [
    "### For Loop"
   ]
  },
  {
   "cell_type": "code",
   "execution_count": 365,
   "id": "ac419070",
   "metadata": {},
   "outputs": [],
   "source": [
    "new_list = []"
   ]
  },
  {
   "cell_type": "code",
   "execution_count": 366,
   "id": "557798a5",
   "metadata": {},
   "outputs": [],
   "source": [
    "random_numbers = list(range(2,899,3))"
   ]
  },
  {
   "cell_type": "code",
   "execution_count": 367,
   "id": "0841e2bb",
   "metadata": {},
   "outputs": [
    {
     "data": {
      "text/plain": [
       "[]"
      ]
     },
     "execution_count": 367,
     "metadata": {},
     "output_type": "execute_result"
    }
   ],
   "source": [
    "new_list"
   ]
  },
  {
   "cell_type": "code",
   "execution_count": 368,
   "id": "eb59dbf7",
   "metadata": {},
   "outputs": [],
   "source": [
    "# for number in random_numbers:\n",
    "#     if number%4 == 0:\n",
    "#         new_list.append(number)\n",
    "#     else:\n",
    "#         pass"
   ]
  },
  {
   "cell_type": "code",
   "execution_count": null,
   "id": "0900e62b",
   "metadata": {},
   "outputs": [],
   "source": []
  },
  {
   "cell_type": "code",
   "execution_count": 369,
   "id": "ae3ee500",
   "metadata": {},
   "outputs": [
    {
     "data": {
      "text/plain": [
       "[2, 5, 8, 11, 14, 17, 20]"
      ]
     },
     "execution_count": 369,
     "metadata": {},
     "output_type": "execute_result"
    }
   ],
   "source": [
    "random_numbers[:7]"
   ]
  },
  {
   "cell_type": "code",
   "execution_count": 370,
   "id": "1fa13543",
   "metadata": {},
   "outputs": [
    {
     "name": "stdout",
     "output_type": "stream",
     "text": [
      "2 isn't divisible 5\n",
      "5 is divisible by 5\n",
      "8 isn't divisible 5\n",
      "11 isn't divisible 5\n",
      "14 isn't divisible 5\n",
      "17 isn't divisible 5\n",
      "20 is divisible by 5\n",
      "23 isn't divisible 5\n",
      "26 isn't divisible 5\n",
      "29 isn't divisible 5\n",
      "32 isn't divisible 5\n",
      "35 is divisible by 5\n",
      "38 isn't divisible 5\n",
      "41 isn't divisible 5\n",
      "44 isn't divisible 5\n",
      "47 isn't divisible 5\n",
      "50 is divisible by 5\n",
      "53 isn't divisible 5\n",
      "56 isn't divisible 5\n",
      "59 isn't divisible 5\n"
     ]
    }
   ],
   "source": [
    "for num in random_numbers[0:20]:\n",
    "    if num%5 == 0:\n",
    "        print(str(num) + ' is divisible by 5')\n",
    "    else:\n",
    "        print(str(num) + ' isn\\'t divisible 5')\n",
    "        "
   ]
  },
  {
   "cell_type": "markdown",
   "id": "40de5af7",
   "metadata": {},
   "source": [
    "### While Loop"
   ]
  },
  {
   "cell_type": "code",
   "execution_count": 371,
   "id": "c83ff853",
   "metadata": {},
   "outputs": [
    {
     "name": "stdout",
     "output_type": "stream",
     "text": [
      "Length of aba is more than two\n"
     ]
    }
   ],
   "source": [
    "for entity in items:\n",
    "    if len(entity) == 2:\n",
    "        print('Length of ' + entity + ' is ' + str(len(entity)))\n",
    "    else:\n",
    "        print('Length of ' + entity + ' is more than two')\n",
    "    break\n",
    "    "
   ]
  },
  {
   "cell_type": "code",
   "execution_count": null,
   "id": "55a74e14",
   "metadata": {},
   "outputs": [],
   "source": [
    "while_list = [9,6,7,5,3,2,1]"
   ]
  },
  {
   "cell_type": "code",
   "execution_count": 372,
   "id": "c735d801",
   "metadata": {},
   "outputs": [
    {
     "name": "stdout",
     "output_type": "stream",
     "text": [
      "Hello there\n",
      "Hello there\n",
      "Hello there\n"
     ]
    }
   ],
   "source": [
    "n = 5\n",
    "while n > 2:\n",
    "    print('Hello there')\n",
    "    n = n - 1"
   ]
  },
  {
   "cell_type": "markdown",
   "id": "07979b87",
   "metadata": {},
   "source": [
    "### Python functions"
   ]
  },
  {
   "cell_type": "code",
   "execution_count": 378,
   "id": "b659feba",
   "metadata": {},
   "outputs": [],
   "source": [
    "base = 68\n",
    "height = 90"
   ]
  },
  {
   "cell_type": "code",
   "execution_count": 379,
   "id": "5eeaa750",
   "metadata": {},
   "outputs": [
    {
     "name": "stdout",
     "output_type": "stream",
     "text": [
      "3060.0\n"
     ]
    }
   ],
   "source": [
    "area_triangle = 0.5 * base * height\n",
    "print(area_triangle)"
   ]
  },
  {
   "cell_type": "code",
   "execution_count": 384,
   "id": "5556b46a",
   "metadata": {},
   "outputs": [],
   "source": [
    "def area_of_triangle(base, height):\n",
    "    area_triangle = 0.5 * base * height\n",
    "    print('Area of triangle is', area_triangle)"
   ]
  },
  {
   "cell_type": "code",
   "execution_count": 385,
   "id": "681e86ee",
   "metadata": {},
   "outputs": [
    {
     "name": "stdout",
     "output_type": "stream",
     "text": [
      "Area of triangle is 17.5\n"
     ]
    }
   ],
   "source": [
    "area_of_triangle(5,7)"
   ]
  },
  {
   "cell_type": "code",
   "execution_count": 386,
   "id": "d0c44d09",
   "metadata": {},
   "outputs": [
    {
     "name": "stdout",
     "output_type": "stream",
     "text": [
      "Area of triangle is 3060.0\n"
     ]
    }
   ],
   "source": [
    "area_of_triangle(68, 90)"
   ]
  },
  {
   "cell_type": "code",
   "execution_count": 387,
   "id": "bdc2625d",
   "metadata": {},
   "outputs": [],
   "source": [
    "def calc_hypotenuse(adjacent, opposite):\n",
    "    hyp_sqaured = adjacent**2 + opposite**2\n",
    "    hypotenuse = hyp_sqaured**0.5\n",
    "    print('Hypotenuse of triangle is', hypotenuse)"
   ]
  },
  {
   "cell_type": "code",
   "execution_count": 389,
   "id": "860744ec",
   "metadata": {},
   "outputs": [
    {
     "name": "stdout",
     "output_type": "stream",
     "text": [
      "Hypotenuse of triangle is 5.0\n"
     ]
    }
   ],
   "source": [
    "calc_hypotenuse(3,4)"
   ]
  },
  {
   "cell_type": "code",
   "execution_count": 8,
   "id": "ffb81a48",
   "metadata": {},
   "outputs": [],
   "source": [
    "# def hypotenuse(adjacent, opposite=6):\n",
    "#     import math\n",
    "#     hyp_sqaured = adjacent**2 + opposite**2\n",
    "#     hypotenuse = math.sqrt(hyp_sqaured)\n",
    "#     print('Hypotenuse of triangle is', hypotenuse)"
   ]
  },
  {
   "cell_type": "code",
   "execution_count": 10,
   "id": "e5bddceb",
   "metadata": {},
   "outputs": [],
   "source": [
    "def hypotenuse(adjacent, opposite=6):\n",
    "    import math\n",
    "    hyp_sqaured = adjacent**2 + opposite**2\n",
    "    hypotenuse = math.sqrt(hyp_sqaured)\n",
    "    print(hypotenuse)"
   ]
  },
  {
   "cell_type": "code",
   "execution_count": 401,
   "id": "53d99796",
   "metadata": {},
   "outputs": [
    {
     "name": "stdout",
     "output_type": "stream",
     "text": [
      "Hypotenuse of triangle is 13.0\n"
     ]
    }
   ],
   "source": [
    "hypotenuse(5,12)"
   ]
  },
  {
   "cell_type": "code",
   "execution_count": 393,
   "id": "d4600616",
   "metadata": {},
   "outputs": [],
   "source": [
    "def print_name(name = 'Joseph'):\n",
    "    print('Hello', name)"
   ]
  },
  {
   "cell_type": "code",
   "execution_count": 396,
   "id": "8647bed5",
   "metadata": {},
   "outputs": [
    {
     "name": "stdout",
     "output_type": "stream",
     "text": [
      "Hello Joseph\n"
     ]
    }
   ],
   "source": [
    "print_name()"
   ]
  },
  {
   "cell_type": "code",
   "execution_count": 395,
   "id": "08f824fb",
   "metadata": {},
   "outputs": [
    {
     "ename": "TypeError",
     "evalue": "hypotenuse() missing 2 required positional arguments: 'adjacent' and 'opposite'",
     "output_type": "error",
     "traceback": [
      "\u001b[1;31m---------------------------------------------------------------------------\u001b[0m",
      "\u001b[1;31mTypeError\u001b[0m                                 Traceback (most recent call last)",
      "\u001b[1;32m~\\AppData\\Local\\Temp/ipykernel_34820/2291342498.py\u001b[0m in \u001b[0;36m<module>\u001b[1;34m\u001b[0m\n\u001b[1;32m----> 1\u001b[1;33m \u001b[0mhypotenuse\u001b[0m\u001b[1;33m(\u001b[0m\u001b[1;33m)\u001b[0m\u001b[1;33m\u001b[0m\u001b[1;33m\u001b[0m\u001b[0m\n\u001b[0m",
      "\u001b[1;31mTypeError\u001b[0m: hypotenuse() missing 2 required positional arguments: 'adjacent' and 'opposite'"
     ]
    }
   ],
   "source": [
    "hypotenuse()"
   ]
  },
  {
   "cell_type": "code",
   "execution_count": 397,
   "id": "a87b0274",
   "metadata": {},
   "outputs": [
    {
     "name": "stdout",
     "output_type": "stream",
     "text": [
      "Hello Rabels\n"
     ]
    }
   ],
   "source": [
    "print_name('Rabels')"
   ]
  },
  {
   "cell_type": "markdown",
   "id": "f1cceb07",
   "metadata": {},
   "source": [
    "### Lambda Functions"
   ]
  },
  {
   "cell_type": "code",
   "execution_count": 407,
   "id": "b5c7e959",
   "metadata": {},
   "outputs": [],
   "source": [
    "area = lambda base, height: print('Area of traingle is', 0.5*base*height)"
   ]
  },
  {
   "cell_type": "code",
   "execution_count": 409,
   "id": "9bb1035f",
   "metadata": {},
   "outputs": [
    {
     "name": "stdout",
     "output_type": "stream",
     "text": [
      "Area of traingle is 10.0\n"
     ]
    }
   ],
   "source": [
    "area(4,5)"
   ]
  },
  {
   "cell_type": "code",
   "execution_count": 415,
   "id": "fcf6a9a5",
   "metadata": {},
   "outputs": [],
   "source": [
    "say_hello = lambda name='Brian': print('Hello', name)"
   ]
  },
  {
   "cell_type": "code",
   "execution_count": 416,
   "id": "48892f85",
   "metadata": {},
   "outputs": [
    {
     "name": "stdout",
     "output_type": "stream",
     "text": [
      "Hello Brian\n"
     ]
    }
   ],
   "source": [
    "say_hello()"
   ]
  },
  {
   "cell_type": "markdown",
   "id": "f8a5ce59",
   "metadata": {},
   "source": [
    "### User Input"
   ]
  },
  {
   "cell_type": "code",
   "execution_count": 426,
   "id": "a85c1294",
   "metadata": {},
   "outputs": [],
   "source": [
    "name = 'Zoe'"
   ]
  },
  {
   "cell_type": "code",
   "execution_count": 429,
   "id": "340a6aa6",
   "metadata": {},
   "outputs": [
    {
     "name": "stdout",
     "output_type": "stream",
     "text": [
      "Welcome Benjamin\n"
     ]
    }
   ],
   "source": [
    "print('Welcome', name)"
   ]
  },
  {
   "cell_type": "code",
   "execution_count": 428,
   "id": "8ad2ba1a",
   "metadata": {},
   "outputs": [
    {
     "name": "stdout",
     "output_type": "stream",
     "text": [
      "Benjamin\n"
     ]
    }
   ],
   "source": [
    "name = input()"
   ]
  },
  {
   "cell_type": "code",
   "execution_count": 430,
   "id": "c1e79c91",
   "metadata": {},
   "outputs": [
    {
     "name": "stdout",
     "output_type": "stream",
     "text": [
      "Enter your name: Franklin\n",
      "Welcome Franklin\n"
     ]
    }
   ],
   "source": [
    "name = input('Enter your name: ')\n",
    "print('Welcome', name)"
   ]
  },
  {
   "cell_type": "code",
   "execution_count": 1,
   "id": "a06021fb",
   "metadata": {},
   "outputs": [
    {
     "name": "stdout",
     "output_type": "stream",
     "text": [
      "Enter number: 789\n",
      "1467\n"
     ]
    }
   ],
   "source": [
    "num = int(input('Enter number: '))\n",
    "print(num + 678)"
   ]
  },
  {
   "cell_type": "code",
   "execution_count": 435,
   "id": "aa8ed918",
   "metadata": {},
   "outputs": [
    {
     "data": {
      "text/plain": [
       "89"
      ]
     },
     "execution_count": 435,
     "metadata": {},
     "output_type": "execute_result"
    }
   ],
   "source": [
    "89"
   ]
  },
  {
   "cell_type": "code",
   "execution_count": 436,
   "id": "1df9ca29",
   "metadata": {},
   "outputs": [
    {
     "data": {
      "text/plain": [
       "'89'"
      ]
     },
     "execution_count": 436,
     "metadata": {},
     "output_type": "execute_result"
    }
   ],
   "source": [
    "str(89)"
   ]
  },
  {
   "cell_type": "markdown",
   "id": "e778639a",
   "metadata": {},
   "source": [
    "### String Formatting"
   ]
  },
  {
   "cell_type": "code",
   "execution_count": 5,
   "id": "77c24d8a",
   "metadata": {},
   "outputs": [
    {
     "name": "stdout",
     "output_type": "stream",
     "text": [
      "45\n"
     ]
    }
   ],
   "source": [
    "age  = input()"
   ]
  },
  {
   "cell_type": "code",
   "execution_count": 6,
   "id": "01a9d8e5",
   "metadata": {},
   "outputs": [
    {
     "name": "stdout",
     "output_type": "stream",
     "text": [
      "Aba\n"
     ]
    }
   ],
   "source": [
    "name = input()"
   ]
  },
  {
   "cell_type": "code",
   "execution_count": 7,
   "id": "ac33acc7",
   "metadata": {},
   "outputs": [
    {
     "name": "stdout",
     "output_type": "stream",
     "text": [
      "My name is Aba and my age is 45\n"
     ]
    }
   ],
   "source": [
    "print('My name is {} and my age is {}'.format(name, age))"
   ]
  },
  {
   "cell_type": "code",
   "execution_count": 18,
   "id": "eb9a1346",
   "metadata": {},
   "outputs": [
    {
     "name": "stdout",
     "output_type": "stream",
     "text": [
      "84.69356528095862\n"
     ]
    }
   ],
   "source": [
    "hypotenuse(33,78)"
   ]
  },
  {
   "cell_type": "code",
   "execution_count": 20,
   "id": "c820702e",
   "metadata": {},
   "outputs": [],
   "source": [
    "hyp = 84.69356528095862"
   ]
  },
  {
   "cell_type": "code",
   "execution_count": 25,
   "id": "014cdf3b",
   "metadata": {},
   "outputs": [
    {
     "name": "stdout",
     "output_type": "stream",
     "text": [
      "Hypotenuse of the triangle is 84.6936\n"
     ]
    }
   ],
   "source": [
    "print('Hypotenuse of the triangle is {:.4f}'.format(hyp))"
   ]
  },
  {
   "cell_type": "code",
   "execution_count": null,
   "id": "9d92296e",
   "metadata": {},
   "outputs": [],
   "source": []
  }
 ],
 "metadata": {
  "kernelspec": {
   "display_name": "Python 3 (ipykernel)",
   "language": "python",
   "name": "python3"
  },
  "language_info": {
   "codemirror_mode": {
    "name": "ipython",
    "version": 3
   },
   "file_extension": ".py",
   "mimetype": "text/x-python",
   "name": "python",
   "nbconvert_exporter": "python",
   "pygments_lexer": "ipython3",
   "version": "3.9.7"
  }
 },
 "nbformat": 4,
 "nbformat_minor": 5
}
