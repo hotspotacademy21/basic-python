{
 "cells": [
  {
   "cell_type": "markdown",
   "id": "e22a7e26",
   "metadata": {},
   "source": [
    "## Python Data types"
   ]
  },
  {
   "cell_type": "code",
   "execution_count": 3,
   "id": "0fdb4b53",
   "metadata": {},
   "outputs": [
    {
     "data": {
      "text/plain": [
       "1288"
      ]
     },
     "execution_count": 3,
     "metadata": {},
     "output_type": "execute_result"
    }
   ],
   "source": [
    "length * 56"
   ]
  },
  {
   "cell_type": "code",
   "execution_count": null,
   "id": "f02cc994",
   "metadata": {},
   "outputs": [],
   "source": [
    "Int \n",
    "Floats\n",
    "Strings\n",
    "Booleans\n",
    "Lists\n",
    "Dictionaries"
   ]
  },
  {
   "cell_type": "markdown",
   "id": "f1a64e62",
   "metadata": {},
   "source": [
    "#### Integers"
   ]
  },
  {
   "cell_type": "code",
   "execution_count": null,
   "id": "d04072ec",
   "metadata": {},
   "outputs": [],
   "source": [
    "1004"
   ]
  },
  {
   "cell_type": "code",
   "execution_count": null,
   "id": "557cb6e0",
   "metadata": {},
   "outputs": [],
   "source": [
    "type(1004)"
   ]
  },
  {
   "cell_type": "markdown",
   "id": "069d7856",
   "metadata": {},
   "source": [
    "#### Floats"
   ]
  },
  {
   "cell_type": "code",
   "execution_count": null,
   "id": "892f93dd",
   "metadata": {},
   "outputs": [],
   "source": [
    "172.65"
   ]
  },
  {
   "cell_type": "code",
   "execution_count": null,
   "id": "1e896fe8",
   "metadata": {},
   "outputs": [],
   "source": [
    "type(172.65)"
   ]
  },
  {
   "cell_type": "code",
   "execution_count": null,
   "id": "fc58311f",
   "metadata": {},
   "outputs": [],
   "source": [
    "1004.0"
   ]
  },
  {
   "cell_type": "code",
   "execution_count": null,
   "id": "ef63dabd",
   "metadata": {},
   "outputs": [],
   "source": [
    "type(1004.0)"
   ]
  },
  {
   "cell_type": "markdown",
   "id": "a5b98c84",
   "metadata": {},
   "source": [
    "#### Strings"
   ]
  },
  {
   "cell_type": "code",
   "execution_count": null,
   "id": "c6fc67bb",
   "metadata": {},
   "outputs": [],
   "source": [
    "'mango'"
   ]
  },
  {
   "cell_type": "code",
   "execution_count": null,
   "id": "ad0198a7",
   "metadata": {},
   "outputs": [],
   "source": [
    "type('mango')"
   ]
  },
  {
   "cell_type": "code",
   "execution_count": null,
   "id": "5eef5f5b",
   "metadata": {},
   "outputs": [],
   "source": [
    "\"cassava\""
   ]
  },
  {
   "cell_type": "code",
   "execution_count": null,
   "id": "704a559c",
   "metadata": {},
   "outputs": [],
   "source": [
    "type(\"cassava\")"
   ]
  },
  {
   "cell_type": "code",
   "execution_count": null,
   "id": "144d6921",
   "metadata": {},
   "outputs": [],
   "source": [
    "'1004.0'"
   ]
  },
  {
   "cell_type": "code",
   "execution_count": null,
   "id": "881266b6",
   "metadata": {},
   "outputs": [],
   "source": [
    "type('1004.0')"
   ]
  },
  {
   "cell_type": "markdown",
   "id": "f98fe1a6",
   "metadata": {},
   "source": [
    "#### Booleans"
   ]
  },
  {
   "cell_type": "code",
   "execution_count": null,
   "id": "639e1f82",
   "metadata": {},
   "outputs": [],
   "source": [
    "3 > 2"
   ]
  },
  {
   "cell_type": "code",
   "execution_count": null,
   "id": "4de00347",
   "metadata": {},
   "outputs": [],
   "source": [
    "4 > 9"
   ]
  },
  {
   "cell_type": "markdown",
   "id": "0b4c453a",
   "metadata": {},
   "source": [
    "## Variable assignation"
   ]
  },
  {
   "cell_type": "code",
   "execution_count": null,
   "id": "f9dbae39",
   "metadata": {},
   "outputs": [],
   "source": [
    "3.142567864345"
   ]
  },
  {
   "cell_type": "code",
   "execution_count": null,
   "id": "f1783ba7",
   "metadata": {},
   "outputs": [],
   "source": [
    "3 * 3.14256784345"
   ]
  },
  {
   "cell_type": "code",
   "execution_count": null,
   "id": "6f6d88d2",
   "metadata": {},
   "outputs": [],
   "source": [
    "89 * 3.14256784345"
   ]
  },
  {
   "cell_type": "code",
   "execution_count": null,
   "id": "a2efdae2",
   "metadata": {},
   "outputs": [],
   "source": [
    "pi = 3.14256784345"
   ]
  },
  {
   "cell_type": "code",
   "execution_count": null,
   "id": "facb7669",
   "metadata": {},
   "outputs": [],
   "source": [
    "3 * pi"
   ]
  },
  {
   "cell_type": "code",
   "execution_count": null,
   "id": "bae32706",
   "metadata": {},
   "outputs": [],
   "source": [
    "89 * pi"
   ]
  },
  {
   "cell_type": "code",
   "execution_count": 2,
   "id": "79c77ea3",
   "metadata": {},
   "outputs": [],
   "source": [
    "length = 23"
   ]
  },
  {
   "cell_type": "code",
   "execution_count": null,
   "id": "a5a7d6bf",
   "metadata": {},
   "outputs": [],
   "source": [
    "breadth = 46"
   ]
  },
  {
   "cell_type": "code",
   "execution_count": null,
   "id": "2794a7d9",
   "metadata": {},
   "outputs": [],
   "source": [
    "rectangle_perimeter = 2*length + 2*breadth"
   ]
  },
  {
   "cell_type": "code",
   "execution_count": null,
   "id": "39eb59bd",
   "metadata": {},
   "outputs": [],
   "source": [
    "rectangle_perimeter"
   ]
  },
  {
   "cell_type": "code",
   "execution_count": null,
   "id": "e288aaf1",
   "metadata": {},
   "outputs": [],
   "source": [
    "length - breadth"
   ]
  },
  {
   "cell_type": "code",
   "execution_count": null,
   "id": "4ecff62e",
   "metadata": {},
   "outputs": [],
   "source": [
    "mango"
   ]
  },
  {
   "cell_type": "code",
   "execution_count": null,
   "id": "7b7fae1e",
   "metadata": {},
   "outputs": [],
   "source": [
    "length"
   ]
  },
  {
   "cell_type": "markdown",
   "id": "b5082632",
   "metadata": {},
   "source": [
    "## Operators"
   ]
  },
  {
   "cell_type": "markdown",
   "id": "cae1d479",
   "metadata": {},
   "source": [
    "#### Arithmetic operators(& In-line Comments)"
   ]
  },
  {
   "cell_type": "code",
   "execution_count": 4,
   "id": "d0eb1970",
   "metadata": {},
   "outputs": [
    {
     "data": {
      "text/plain": [
       "30"
      ]
     },
     "execution_count": 4,
     "metadata": {},
     "output_type": "execute_result"
    }
   ],
   "source": [
    "# Multiplication\n",
    "5 * 6"
   ]
  },
  {
   "cell_type": "code",
   "execution_count": 20,
   "id": "a5e923d4",
   "metadata": {},
   "outputs": [
    {
     "data": {
      "text/plain": [
       "1"
      ]
     },
     "execution_count": 20,
     "metadata": {},
     "output_type": "execute_result"
    }
   ],
   "source": [
    "# Subtraction\n",
    "6 - 5"
   ]
  },
  {
   "cell_type": "code",
   "execution_count": 18,
   "id": "978edce1",
   "metadata": {},
   "outputs": [
    {
     "data": {
      "text/plain": [
       "11"
      ]
     },
     "execution_count": 18,
     "metadata": {},
     "output_type": "execute_result"
    }
   ],
   "source": [
    "# Addition\n",
    "4 + 7"
   ]
  },
  {
   "cell_type": "code",
   "execution_count": 6,
   "id": "52e783dc",
   "metadata": {},
   "outputs": [
    {
     "data": {
      "text/plain": [
       "36"
      ]
     },
     "execution_count": 6,
     "metadata": {},
     "output_type": "execute_result"
    }
   ],
   "source": [
    "6*5+6"
   ]
  },
  {
   "cell_type": "code",
   "execution_count": 7,
   "id": "503c7ebd",
   "metadata": {},
   "outputs": [
    {
     "data": {
      "text/plain": [
       "36"
      ]
     },
     "execution_count": 7,
     "metadata": {},
     "output_type": "execute_result"
    }
   ],
   "source": [
    "(6*5) + 6"
   ]
  },
  {
   "cell_type": "code",
   "execution_count": 8,
   "id": "821bfc36",
   "metadata": {},
   "outputs": [
    {
     "name": "stderr",
     "output_type": "stream",
     "text": [
      "<>:1: SyntaxWarning: 'int' object is not callable; perhaps you missed a comma?\n",
      "<>:1: SyntaxWarning: 'int' object is not callable; perhaps you missed a comma?\n",
      "C:\\Users\\JB479JV\\AppData\\Local\\Temp/ipykernel_25900/3428628430.py:1: SyntaxWarning: 'int' object is not callable; perhaps you missed a comma?\n",
      "  2(3)\n"
     ]
    },
    {
     "ename": "TypeError",
     "evalue": "'int' object is not callable",
     "output_type": "error",
     "traceback": [
      "\u001b[1;31m---------------------------------------------------------------------------\u001b[0m",
      "\u001b[1;31mTypeError\u001b[0m                                 Traceback (most recent call last)",
      "\u001b[1;32m~\\AppData\\Local\\Temp/ipykernel_25900/3428628430.py\u001b[0m in \u001b[0;36m<module>\u001b[1;34m\u001b[0m\n\u001b[1;32m----> 1\u001b[1;33m \u001b[1;36m2\u001b[0m\u001b[1;33m(\u001b[0m\u001b[1;36m3\u001b[0m\u001b[1;33m)\u001b[0m\u001b[1;33m\u001b[0m\u001b[1;33m\u001b[0m\u001b[0m\n\u001b[0m",
      "\u001b[1;31mTypeError\u001b[0m: 'int' object is not callable"
     ]
    }
   ],
   "source": [
    "2(3)"
   ]
  },
  {
   "cell_type": "code",
   "execution_count": 9,
   "id": "91d6069a",
   "metadata": {},
   "outputs": [
    {
     "data": {
      "text/plain": [
       "6"
      ]
     },
     "execution_count": 9,
     "metadata": {},
     "output_type": "execute_result"
    }
   ],
   "source": [
    "2 * 3"
   ]
  },
  {
   "cell_type": "code",
   "execution_count": 10,
   "id": "827ffb3e",
   "metadata": {},
   "outputs": [
    {
     "data": {
      "text/plain": [
       "6"
      ]
     },
     "execution_count": 10,
     "metadata": {},
     "output_type": "execute_result"
    }
   ],
   "source": [
    "2*(3)"
   ]
  },
  {
   "cell_type": "code",
   "execution_count": 21,
   "id": "c021a441",
   "metadata": {},
   "outputs": [
    {
     "data": {
      "text/plain": [
       "1.125"
      ]
     },
     "execution_count": 21,
     "metadata": {},
     "output_type": "execute_result"
    }
   ],
   "source": [
    "# Normal division\n",
    "9/8"
   ]
  },
  {
   "cell_type": "code",
   "execution_count": 22,
   "id": "1475ba31",
   "metadata": {},
   "outputs": [
    {
     "data": {
      "text/plain": [
       "1"
      ]
     },
     "execution_count": 22,
     "metadata": {},
     "output_type": "execute_result"
    }
   ],
   "source": [
    "# Floor division\n",
    "9//8"
   ]
  },
  {
   "cell_type": "code",
   "execution_count": 13,
   "id": "9debb5ed",
   "metadata": {},
   "outputs": [
    {
     "data": {
      "text/plain": [
       "3"
      ]
     },
     "execution_count": 13,
     "metadata": {},
     "output_type": "execute_result"
    }
   ],
   "source": [
    "# Modulo\n",
    "7%4"
   ]
  },
  {
   "cell_type": "code",
   "execution_count": 29,
   "id": "27dfcf80",
   "metadata": {},
   "outputs": [],
   "source": [
    "num = 73"
   ]
  },
  {
   "cell_type": "code",
   "execution_count": 30,
   "id": "18a77153",
   "metadata": {},
   "outputs": [],
   "source": [
    "if num%2 == 0:\n",
    "    print(str(num) + ' is an even number')"
   ]
  },
  {
   "cell_type": "code",
   "execution_count": 17,
   "id": "b2795835",
   "metadata": {},
   "outputs": [
    {
     "data": {
      "text/plain": [
       "81"
      ]
     },
     "execution_count": 17,
     "metadata": {},
     "output_type": "execute_result"
    }
   ],
   "source": [
    "# Exponent\n",
    "3**4"
   ]
  },
  {
   "cell_type": "code",
   "execution_count": 23,
   "id": "71647187",
   "metadata": {},
   "outputs": [
    {
     "data": {
      "text/plain": [
       "9"
      ]
     },
     "execution_count": 23,
     "metadata": {},
     "output_type": "execute_result"
    }
   ],
   "source": [
    "3**2"
   ]
  },
  {
   "cell_type": "code",
   "execution_count": 24,
   "id": "0515ee91",
   "metadata": {},
   "outputs": [
    {
     "data": {
      "text/plain": [
       "1024"
      ]
     },
     "execution_count": 24,
     "metadata": {},
     "output_type": "execute_result"
    }
   ],
   "source": [
    "4**5"
   ]
  },
  {
   "cell_type": "code",
   "execution_count": 25,
   "id": "b0d0ab1c",
   "metadata": {},
   "outputs": [
    {
     "data": {
      "text/plain": [
       "5.0"
      ]
     },
     "execution_count": 25,
     "metadata": {},
     "output_type": "execute_result"
    }
   ],
   "source": [
    "(3**2)-7+6/6+2"
   ]
  },
  {
   "cell_type": "code",
   "execution_count": null,
   "id": "25d949af",
   "metadata": {},
   "outputs": [],
   "source": [
    "9-7+6/6+2"
   ]
  },
  {
   "cell_type": "code",
   "execution_count": null,
   "id": "fa5bcf72",
   "metadata": {},
   "outputs": [],
   "source": [
    "9-7+1+2"
   ]
  },
  {
   "cell_type": "code",
   "execution_count": null,
   "id": "180a0ea3",
   "metadata": {},
   "outputs": [],
   "source": [
    "9-7+3"
   ]
  },
  {
   "cell_type": "code",
   "execution_count": 26,
   "id": "73807195",
   "metadata": {},
   "outputs": [
    {
     "data": {
      "text/plain": [
       "5"
      ]
     },
     "execution_count": 26,
     "metadata": {},
     "output_type": "execute_result"
    }
   ],
   "source": [
    "9-4"
   ]
  },
  {
   "cell_type": "markdown",
   "id": "c5284ace",
   "metadata": {},
   "source": [
    "#### Comparison Operators"
   ]
  },
  {
   "cell_type": "code",
   "execution_count": 27,
   "id": "bcbd356e",
   "metadata": {},
   "outputs": [
    {
     "data": {
      "text/plain": [
       "True"
      ]
     },
     "execution_count": 27,
     "metadata": {},
     "output_type": "execute_result"
    }
   ],
   "source": [
    "7 > 6"
   ]
  },
  {
   "cell_type": "code",
   "execution_count": 28,
   "id": "a845783b",
   "metadata": {},
   "outputs": [
    {
     "data": {
      "text/plain": [
       "False"
      ]
     },
     "execution_count": 28,
     "metadata": {},
     "output_type": "execute_result"
    }
   ],
   "source": [
    "7 > 90"
   ]
  },
  {
   "cell_type": "code",
   "execution_count": 31,
   "id": "830d7692",
   "metadata": {},
   "outputs": [
    {
     "data": {
      "text/plain": [
       "True"
      ]
     },
     "execution_count": 31,
     "metadata": {},
     "output_type": "execute_result"
    }
   ],
   "source": [
    "5 < 6"
   ]
  },
  {
   "cell_type": "code",
   "execution_count": 32,
   "id": "543d392a",
   "metadata": {},
   "outputs": [
    {
     "data": {
      "text/plain": [
       "False"
      ]
     },
     "execution_count": 32,
     "metadata": {},
     "output_type": "execute_result"
    }
   ],
   "source": [
    "8 >= 9"
   ]
  },
  {
   "cell_type": "code",
   "execution_count": 33,
   "id": "ebac250b",
   "metadata": {},
   "outputs": [
    {
     "data": {
      "text/plain": [
       "True"
      ]
     },
     "execution_count": 33,
     "metadata": {},
     "output_type": "execute_result"
    }
   ],
   "source": [
    "9 <= 45"
   ]
  },
  {
   "cell_type": "code",
   "execution_count": 34,
   "id": "b39396e4",
   "metadata": {},
   "outputs": [
    {
     "data": {
      "text/plain": [
       "True"
      ]
     },
     "execution_count": 34,
     "metadata": {},
     "output_type": "execute_result"
    }
   ],
   "source": [
    "7 == 7"
   ]
  },
  {
   "cell_type": "code",
   "execution_count": 35,
   "id": "617b6794",
   "metadata": {},
   "outputs": [
    {
     "data": {
      "text/plain": [
       "False"
      ]
     },
     "execution_count": 35,
     "metadata": {},
     "output_type": "execute_result"
    }
   ],
   "source": [
    "8 == 7"
   ]
  },
  {
   "cell_type": "code",
   "execution_count": null,
   "id": "772c99ec",
   "metadata": {},
   "outputs": [],
   "source": []
  }
 ],
 "metadata": {
  "kernelspec": {
   "display_name": "Python 3 (ipykernel)",
   "language": "python",
   "name": "python3"
  },
  "language_info": {
   "codemirror_mode": {
    "name": "ipython",
    "version": 3
   },
   "file_extension": ".py",
   "mimetype": "text/x-python",
   "name": "python",
   "nbconvert_exporter": "python",
   "pygments_lexer": "ipython3",
   "version": "3.9.7"
  }
 },
 "nbformat": 4,
 "nbformat_minor": 5
}
